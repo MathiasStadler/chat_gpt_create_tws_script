{
 "cells": [
  {
   "cell_type": "markdown",
   "metadata": {},
   "source": [
    "[FROM HERE](https://github.com/erdewit/ib_insync/blob/master/notebooks/option_chain.ipynb)"
   ]
  },
  {
   "cell_type": "code",
   "execution_count": 4,
   "metadata": {},
   "outputs": [],
   "source": [
    "from ib_insync import *\n",
    "util.startLoop()\n",
    "\n",
    "ib = IB()\n",
    "# Paper\n",
    "ib.connect('127.0.0.1', 7496, clientId=12)\n",
    "\n",
    "# delay data\n",
    "ib.reqMarketDataType(4)"
   ]
  },
  {
   "cell_type": "markdown",
   "metadata": {},
   "source": [
    "Suppose we want to find the options on the SPX, with the following conditions:\n",
    "\n",
    "Use the next three monthly expiries;\n",
    "Use strike prices within +- 20 dollar of the current SPX value;\n",
    "Use strike prices that are a multitude of 5 dollar."
   ]
  },
  {
   "cell_type": "markdown",
   "metadata": {},
   "source": [
    "To avoid issues with market data permissions, we'll use delayed data:"
   ]
  },
  {
   "cell_type": "code",
   "execution_count": 5,
   "metadata": {},
   "outputs": [],
   "source": [
    "ib.reqMarketDataType(4)"
   ]
  },
  {
   "cell_type": "code",
   "execution_count": 6,
   "metadata": {},
   "outputs": [
    {
     "data": {
      "text/plain": [
       "Stock(symbol='TREX', exchange='SMART', currency='USD')"
      ]
     },
     "execution_count": 6,
     "metadata": {},
     "output_type": "execute_result"
    }
   ],
   "source": [
    "stock_contract = Stock('TREX', 'SMART', 'USD')\n",
    "stock_contract"
   ]
  },
  {
   "cell_type": "code",
   "execution_count": 7,
   "metadata": {},
   "outputs": [
    {
     "data": {
      "text/plain": [
       "Stock(conId=6608603, symbol='TREX', exchange='SMART', primaryExchange='NYSE', currency='USD', localSymbol='TREX', tradingClass='TREX')"
      ]
     },
     "execution_count": 7,
     "metadata": {},
     "output_type": "execute_result"
    }
   ],
   "source": [
    "# Qualify the contract\n",
    "qualified_contracts = ib.qualifyContracts(stock_contract)\n",
    "stock_contract"
   ]
  },
  {
   "cell_type": "markdown",
   "metadata": {},
   "source": [
    "qualified contracts - req market data - https://algotrading101.com/learn/ib_insync-interactive-brokers-api-guide/"
   ]
  },
  {
   "cell_type": "code",
   "execution_count": 8,
   "metadata": {},
   "outputs": [],
   "source": [
    "if not qualified_contracts:\n",
    "    print(\"No qualified contracts found.\")\n",
    "else:\n",
    "    stock_contract = qualified_contracts[0]\n",
    "\n",
    "    # Request market data\n",
    "    data = ib.reqMktData(stock_contract, '', False, False)\n",
    "    "
   ]
  },
  {
   "cell_type": "code",
   "execution_count": 9,
   "metadata": {},
   "outputs": [
    {
     "data": {
      "text/plain": [
       "73.34"
      ]
     },
     "execution_count": 9,
     "metadata": {},
     "output_type": "execute_result"
    }
   ],
   "source": [
    "stockValue = data.marketPrice()\n",
    "stockValue"
   ]
  },
  {
   "cell_type": "markdown",
   "metadata": {},
   "source": [
    "chain"
   ]
  },
  {
   "cell_type": "code",
   "execution_count": 10,
   "metadata": {},
   "outputs": [],
   "source": [
    "chains = ib.reqSecDefOptParams(stock_contract.symbol, '', stock_contract.secType, stock_contract.conId)"
   ]
  },
  {
   "cell_type": "markdown",
   "metadata": {},
   "source": [
    "display chains"
   ]
  },
  {
   "cell_type": "code",
   "execution_count": 11,
   "metadata": {},
   "outputs": [
    {
     "data": {
      "text/html": [
       "<div>\n",
       "<style scoped>\n",
       "    .dataframe tbody tr th:only-of-type {\n",
       "        vertical-align: middle;\n",
       "    }\n",
       "\n",
       "    .dataframe tbody tr th {\n",
       "        vertical-align: top;\n",
       "    }\n",
       "\n",
       "    .dataframe thead th {\n",
       "        text-align: right;\n",
       "    }\n",
       "</style>\n",
       "<table border=\"1\" class=\"dataframe\">\n",
       "  <thead>\n",
       "    <tr style=\"text-align: right;\">\n",
       "      <th></th>\n",
       "      <th>exchange</th>\n",
       "      <th>underlyingConId</th>\n",
       "      <th>tradingClass</th>\n",
       "      <th>multiplier</th>\n",
       "      <th>expirations</th>\n",
       "      <th>strikes</th>\n",
       "    </tr>\n",
       "  </thead>\n",
       "  <tbody>\n",
       "    <tr>\n",
       "      <th>0</th>\n",
       "      <td>EDGX</td>\n",
       "      <td>6608603</td>\n",
       "      <td>TREX</td>\n",
       "      <td>100</td>\n",
       "      <td>[20250221, 20250321, 20250417, 20250718]</td>\n",
       "      <td>[30.0, 35.0, 40.0, 45.0, 47.5, 50.0, 55.0, 57....</td>\n",
       "    </tr>\n",
       "    <tr>\n",
       "      <th>1</th>\n",
       "      <td>MIAX</td>\n",
       "      <td>6608603</td>\n",
       "      <td>TREX</td>\n",
       "      <td>100</td>\n",
       "      <td>[20250221, 20250321, 20250417, 20250718]</td>\n",
       "      <td>[30.0, 35.0, 40.0, 45.0, 47.5, 50.0, 55.0, 57....</td>\n",
       "    </tr>\n",
       "    <tr>\n",
       "      <th>2</th>\n",
       "      <td>SMART</td>\n",
       "      <td>6608603</td>\n",
       "      <td>TREX</td>\n",
       "      <td>100</td>\n",
       "      <td>[20250221, 20250321, 20250417, 20250718]</td>\n",
       "      <td>[30.0, 35.0, 40.0, 45.0, 47.5, 50.0, 55.0, 57....</td>\n",
       "    </tr>\n",
       "    <tr>\n",
       "      <th>3</th>\n",
       "      <td>BOX</td>\n",
       "      <td>6608603</td>\n",
       "      <td>TREX</td>\n",
       "      <td>100</td>\n",
       "      <td>[20250221, 20250321, 20250417, 20250718]</td>\n",
       "      <td>[30.0, 35.0, 40.0, 45.0, 47.5, 50.0, 55.0, 57....</td>\n",
       "    </tr>\n",
       "    <tr>\n",
       "      <th>4</th>\n",
       "      <td>CBOE2</td>\n",
       "      <td>6608603</td>\n",
       "      <td>TREX</td>\n",
       "      <td>100</td>\n",
       "      <td>[20250221, 20250321, 20250417, 20250718]</td>\n",
       "      <td>[30.0, 35.0, 40.0, 45.0, 47.5, 50.0, 55.0, 57....</td>\n",
       "    </tr>\n",
       "    <tr>\n",
       "      <th>5</th>\n",
       "      <td>SAPPHIRE</td>\n",
       "      <td>6608603</td>\n",
       "      <td>TREX</td>\n",
       "      <td>100</td>\n",
       "      <td>[20250221, 20250321, 20250417, 20250718]</td>\n",
       "      <td>[30.0, 35.0, 40.0, 45.0, 47.5, 50.0, 55.0, 57....</td>\n",
       "    </tr>\n",
       "    <tr>\n",
       "      <th>6</th>\n",
       "      <td>BATS</td>\n",
       "      <td>6608603</td>\n",
       "      <td>TREX</td>\n",
       "      <td>100</td>\n",
       "      <td>[20250221, 20250321, 20250417, 20250718]</td>\n",
       "      <td>[30.0, 35.0, 40.0, 45.0, 47.5, 50.0, 55.0, 57....</td>\n",
       "    </tr>\n",
       "    <tr>\n",
       "      <th>7</th>\n",
       "      <td>IBUSOPT</td>\n",
       "      <td>6608603</td>\n",
       "      <td>TREX</td>\n",
       "      <td>100</td>\n",
       "      <td>[20250221, 20250321, 20250417, 20250718]</td>\n",
       "      <td>[30.0, 35.0, 40.0, 45.0, 47.5, 50.0, 55.0, 57....</td>\n",
       "    </tr>\n",
       "    <tr>\n",
       "      <th>8</th>\n",
       "      <td>MEMX</td>\n",
       "      <td>6608603</td>\n",
       "      <td>TREX</td>\n",
       "      <td>100</td>\n",
       "      <td>[20250221, 20250321, 20250417, 20250718]</td>\n",
       "      <td>[30.0, 35.0, 40.0, 45.0, 47.5, 50.0, 55.0, 57....</td>\n",
       "    </tr>\n",
       "    <tr>\n",
       "      <th>9</th>\n",
       "      <td>PSE</td>\n",
       "      <td>6608603</td>\n",
       "      <td>TREX</td>\n",
       "      <td>100</td>\n",
       "      <td>[20250221, 20250321, 20250417, 20250718]</td>\n",
       "      <td>[30.0, 35.0, 40.0, 45.0, 47.5, 50.0, 55.0, 57....</td>\n",
       "    </tr>\n",
       "    <tr>\n",
       "      <th>10</th>\n",
       "      <td>EMERALD</td>\n",
       "      <td>6608603</td>\n",
       "      <td>TREX</td>\n",
       "      <td>100</td>\n",
       "      <td>[20250221, 20250321, 20250417, 20250718]</td>\n",
       "      <td>[30.0, 35.0, 40.0, 45.0, 47.5, 50.0, 55.0, 57....</td>\n",
       "    </tr>\n",
       "    <tr>\n",
       "      <th>11</th>\n",
       "      <td>NASDAQOM</td>\n",
       "      <td>6608603</td>\n",
       "      <td>TREX</td>\n",
       "      <td>100</td>\n",
       "      <td>[20250221, 20250321, 20250417, 20250718]</td>\n",
       "      <td>[30.0, 35.0, 40.0, 45.0, 47.5, 50.0, 55.0, 57....</td>\n",
       "    </tr>\n",
       "    <tr>\n",
       "      <th>12</th>\n",
       "      <td>PHLX</td>\n",
       "      <td>6608603</td>\n",
       "      <td>TREX</td>\n",
       "      <td>100</td>\n",
       "      <td>[20250221, 20250321, 20250417, 20250718]</td>\n",
       "      <td>[30.0, 35.0, 40.0, 45.0, 47.5, 50.0, 55.0, 57....</td>\n",
       "    </tr>\n",
       "    <tr>\n",
       "      <th>13</th>\n",
       "      <td>ISE</td>\n",
       "      <td>6608603</td>\n",
       "      <td>TREX</td>\n",
       "      <td>100</td>\n",
       "      <td>[20250221, 20250321, 20250417, 20250718]</td>\n",
       "      <td>[30.0, 35.0, 40.0, 45.0, 47.5, 50.0, 55.0, 57....</td>\n",
       "    </tr>\n",
       "    <tr>\n",
       "      <th>14</th>\n",
       "      <td>AMEX</td>\n",
       "      <td>6608603</td>\n",
       "      <td>TREX</td>\n",
       "      <td>100</td>\n",
       "      <td>[20250221, 20250321, 20250417, 20250718]</td>\n",
       "      <td>[30.0, 35.0, 40.0, 45.0, 47.5, 50.0, 55.0, 57....</td>\n",
       "    </tr>\n",
       "    <tr>\n",
       "      <th>15</th>\n",
       "      <td>GEMINI</td>\n",
       "      <td>6608603</td>\n",
       "      <td>TREX</td>\n",
       "      <td>100</td>\n",
       "      <td>[20250221, 20250321, 20250417, 20250718]</td>\n",
       "      <td>[30.0, 35.0, 40.0, 45.0, 47.5, 50.0, 55.0, 57....</td>\n",
       "    </tr>\n",
       "    <tr>\n",
       "      <th>16</th>\n",
       "      <td>PEARL</td>\n",
       "      <td>6608603</td>\n",
       "      <td>TREX</td>\n",
       "      <td>100</td>\n",
       "      <td>[20250221, 20250321, 20250417, 20250718]</td>\n",
       "      <td>[30.0, 35.0, 40.0, 45.0, 47.5, 50.0, 55.0, 57....</td>\n",
       "    </tr>\n",
       "    <tr>\n",
       "      <th>17</th>\n",
       "      <td>NASDAQBX</td>\n",
       "      <td>6608603</td>\n",
       "      <td>TREX</td>\n",
       "      <td>100</td>\n",
       "      <td>[20250221, 20250321, 20250417, 20250718]</td>\n",
       "      <td>[30.0, 35.0, 40.0, 45.0, 47.5, 50.0, 55.0, 57....</td>\n",
       "    </tr>\n",
       "    <tr>\n",
       "      <th>18</th>\n",
       "      <td>CBOE</td>\n",
       "      <td>6608603</td>\n",
       "      <td>TREX</td>\n",
       "      <td>100</td>\n",
       "      <td>[20250221, 20250321, 20250417, 20250718]</td>\n",
       "      <td>[30.0, 35.0, 40.0, 45.0, 47.5, 50.0, 55.0, 57....</td>\n",
       "    </tr>\n",
       "    <tr>\n",
       "      <th>19</th>\n",
       "      <td>MERCURY</td>\n",
       "      <td>6608603</td>\n",
       "      <td>TREX</td>\n",
       "      <td>100</td>\n",
       "      <td>[20250221, 20250321, 20250417, 20250718]</td>\n",
       "      <td>[30.0, 35.0, 40.0, 45.0, 47.5, 50.0, 55.0, 57....</td>\n",
       "    </tr>\n",
       "  </tbody>\n",
       "</table>\n",
       "</div>"
      ],
      "text/plain": [
       "    exchange underlyingConId tradingClass multiplier  \\\n",
       "0       EDGX         6608603         TREX        100   \n",
       "1       MIAX         6608603         TREX        100   \n",
       "2      SMART         6608603         TREX        100   \n",
       "3        BOX         6608603         TREX        100   \n",
       "4      CBOE2         6608603         TREX        100   \n",
       "5   SAPPHIRE         6608603         TREX        100   \n",
       "6       BATS         6608603         TREX        100   \n",
       "7    IBUSOPT         6608603         TREX        100   \n",
       "8       MEMX         6608603         TREX        100   \n",
       "9        PSE         6608603         TREX        100   \n",
       "10   EMERALD         6608603         TREX        100   \n",
       "11  NASDAQOM         6608603         TREX        100   \n",
       "12      PHLX         6608603         TREX        100   \n",
       "13       ISE         6608603         TREX        100   \n",
       "14      AMEX         6608603         TREX        100   \n",
       "15    GEMINI         6608603         TREX        100   \n",
       "16     PEARL         6608603         TREX        100   \n",
       "17  NASDAQBX         6608603         TREX        100   \n",
       "18      CBOE         6608603         TREX        100   \n",
       "19   MERCURY         6608603         TREX        100   \n",
       "\n",
       "                                 expirations  \\\n",
       "0   [20250221, 20250321, 20250417, 20250718]   \n",
       "1   [20250221, 20250321, 20250417, 20250718]   \n",
       "2   [20250221, 20250321, 20250417, 20250718]   \n",
       "3   [20250221, 20250321, 20250417, 20250718]   \n",
       "4   [20250221, 20250321, 20250417, 20250718]   \n",
       "5   [20250221, 20250321, 20250417, 20250718]   \n",
       "6   [20250221, 20250321, 20250417, 20250718]   \n",
       "7   [20250221, 20250321, 20250417, 20250718]   \n",
       "8   [20250221, 20250321, 20250417, 20250718]   \n",
       "9   [20250221, 20250321, 20250417, 20250718]   \n",
       "10  [20250221, 20250321, 20250417, 20250718]   \n",
       "11  [20250221, 20250321, 20250417, 20250718]   \n",
       "12  [20250221, 20250321, 20250417, 20250718]   \n",
       "13  [20250221, 20250321, 20250417, 20250718]   \n",
       "14  [20250221, 20250321, 20250417, 20250718]   \n",
       "15  [20250221, 20250321, 20250417, 20250718]   \n",
       "16  [20250221, 20250321, 20250417, 20250718]   \n",
       "17  [20250221, 20250321, 20250417, 20250718]   \n",
       "18  [20250221, 20250321, 20250417, 20250718]   \n",
       "19  [20250221, 20250321, 20250417, 20250718]   \n",
       "\n",
       "                                              strikes  \n",
       "0   [30.0, 35.0, 40.0, 45.0, 47.5, 50.0, 55.0, 57....  \n",
       "1   [30.0, 35.0, 40.0, 45.0, 47.5, 50.0, 55.0, 57....  \n",
       "2   [30.0, 35.0, 40.0, 45.0, 47.5, 50.0, 55.0, 57....  \n",
       "3   [30.0, 35.0, 40.0, 45.0, 47.5, 50.0, 55.0, 57....  \n",
       "4   [30.0, 35.0, 40.0, 45.0, 47.5, 50.0, 55.0, 57....  \n",
       "5   [30.0, 35.0, 40.0, 45.0, 47.5, 50.0, 55.0, 57....  \n",
       "6   [30.0, 35.0, 40.0, 45.0, 47.5, 50.0, 55.0, 57....  \n",
       "7   [30.0, 35.0, 40.0, 45.0, 47.5, 50.0, 55.0, 57....  \n",
       "8   [30.0, 35.0, 40.0, 45.0, 47.5, 50.0, 55.0, 57....  \n",
       "9   [30.0, 35.0, 40.0, 45.0, 47.5, 50.0, 55.0, 57....  \n",
       "10  [30.0, 35.0, 40.0, 45.0, 47.5, 50.0, 55.0, 57....  \n",
       "11  [30.0, 35.0, 40.0, 45.0, 47.5, 50.0, 55.0, 57....  \n",
       "12  [30.0, 35.0, 40.0, 45.0, 47.5, 50.0, 55.0, 57....  \n",
       "13  [30.0, 35.0, 40.0, 45.0, 47.5, 50.0, 55.0, 57....  \n",
       "14  [30.0, 35.0, 40.0, 45.0, 47.5, 50.0, 55.0, 57....  \n",
       "15  [30.0, 35.0, 40.0, 45.0, 47.5, 50.0, 55.0, 57....  \n",
       "16  [30.0, 35.0, 40.0, 45.0, 47.5, 50.0, 55.0, 57....  \n",
       "17  [30.0, 35.0, 40.0, 45.0, 47.5, 50.0, 55.0, 57....  \n",
       "18  [30.0, 35.0, 40.0, 45.0, 47.5, 50.0, 55.0, 57....  \n",
       "19  [30.0, 35.0, 40.0, 45.0, 47.5, 50.0, 55.0, 57....  "
      ]
     },
     "execution_count": 11,
     "metadata": {},
     "output_type": "execute_result"
    }
   ],
   "source": [
    "util.df(chains)"
   ]
  },
  {
   "cell_type": "markdown",
   "metadata": {},
   "source": [
    "get chain SMART - tradingClass TREX"
   ]
  },
  {
   "cell_type": "code",
   "execution_count": 12,
   "metadata": {},
   "outputs": [
    {
     "data": {
      "text/plain": [
       "OptionChain(exchange='SMART', underlyingConId='6608603', tradingClass='TREX', multiplier='100', expirations=['20250221', '20250321', '20250417', '20250718'], strikes=[30.0, 35.0, 40.0, 45.0, 47.5, 50.0, 55.0, 57.5, 60.0, 62.5, 65.0, 67.5, 70.0, 72.5, 75.0, 77.5, 80.0, 82.5, 85.0, 90.0, 95.0, 100.0, 105.0, 110.0, 115.0])"
      ]
     },
     "execution_count": 12,
     "metadata": {},
     "output_type": "execute_result"
    }
   ],
   "source": [
    "chain = next(c for c in chains if c.tradingClass == 'TREX' and c.exchange == 'SMART')\n",
    "chain"
   ]
  },
  {
   "cell_type": "markdown",
   "metadata": {},
   "source": [
    "get strikes"
   ]
  },
  {
   "cell_type": "code",
   "execution_count": 13,
   "metadata": {},
   "outputs": [],
   "source": [
    "strikes = [strike for strike in chain.strikes\n",
    "        if strike % 5 == 0\n",
    "        and stockValue - 30 < strike < stockValue + 30]"
   ]
  },
  {
   "cell_type": "markdown",
   "metadata": {},
   "source": [
    "# print strikes"
   ]
  },
  {
   "cell_type": "code",
   "execution_count": 14,
   "metadata": {},
   "outputs": [
    {
     "data": {
      "text/plain": [
       "[45.0, 50.0, 55.0, 60.0, 65.0, 70.0, 75.0, 80.0, 85.0, 90.0, 95.0, 100.0]"
      ]
     },
     "execution_count": 14,
     "metadata": {},
     "output_type": "execute_result"
    }
   ],
   "source": [
    "strikes"
   ]
  },
  {
   "cell_type": "markdown",
   "metadata": {},
   "source": [
    "get expirations from chain"
   ]
  },
  {
   "cell_type": "code",
   "execution_count": 15,
   "metadata": {},
   "outputs": [],
   "source": [
    "expirations = sorted(exp for exp in chain.expirations)[:3]"
   ]
  },
  {
   "cell_type": "markdown",
   "metadata": {},
   "source": [
    "# print expirations"
   ]
  },
  {
   "cell_type": "code",
   "execution_count": 17,
   "metadata": {},
   "outputs": [
    {
     "data": {
      "text/plain": [
       "['20250221', '20250321', '20250417']"
      ]
     },
     "execution_count": 17,
     "metadata": {},
     "output_type": "execute_result"
    }
   ],
   "source": [
    "expirations"
   ]
  },
  {
   "cell_type": "markdown",
   "metadata": {},
   "source": [
    "# get contract"
   ]
  },
  {
   "cell_type": "code",
   "execution_count": 20,
   "metadata": {},
   "outputs": [
    {
     "data": {
      "text/plain": [
       "72"
      ]
     },
     "execution_count": 20,
     "metadata": {},
     "output_type": "execute_result"
    }
   ],
   "source": [
    "rights = ['P', 'C']\n",
    "\n",
    "contracts = [Option('TREX', expiration, strike, right, 'SMART', tradingClass='TREX')\n",
    "        for right in rights\n",
    "        for expiration in expirations\n",
    "        for strike in strikes]\n",
    "\n",
    "contracts = ib.qualifyContracts(*contracts)\n",
    "len(contracts)"
   ]
  },
  {
   "cell_type": "markdown",
   "metadata": {},
   "source": [
    "## first contract"
   ]
  },
  {
   "cell_type": "code",
   "execution_count": 21,
   "metadata": {},
   "outputs": [
    {
     "data": {
      "text/plain": [
       "Option(conId=749705113, symbol='TREX', lastTradeDateOrContractMonth='20250221', strike=45.0, right='P', multiplier='100', exchange='SMART', currency='USD', localSymbol='TREX  250221P00045000', tradingClass='TREX')"
      ]
     },
     "execution_count": 21,
     "metadata": {},
     "output_type": "execute_result"
    }
   ],
   "source": [
    "contracts[0]"
   ]
  },
  {
   "cell_type": "markdown",
   "metadata": {},
   "source": [
    "# Now to get the market data for all options in one go:"
   ]
  },
  {
   "cell_type": "code",
   "execution_count": 22,
   "metadata": {},
   "outputs": [],
   "source": [
    "tickers = ib.reqTickers(*contracts)\n"
   ]
  },
  {
   "cell_type": "markdown",
   "metadata": {},
   "source": []
  },
  {
   "cell_type": "code",
   "execution_count": 23,
   "metadata": {},
   "outputs": [
    {
     "data": {
      "text/plain": [
       "Ticker(contract=Option(conId=749705113, symbol='TREX', lastTradeDateOrContractMonth='20250221', strike=45.0, right='P', multiplier='100', exchange='SMART', currency='USD', localSymbol='TREX  250221P00045000', tradingClass='TREX'), time=datetime.datetime(2025, 1, 30, 17, 2, 0, 196607, tzinfo=datetime.timezone.utc), marketDataType=3, minTick=0.01, bid=-1.0, bidSize=0.0, ask=0.15, askSize=12.0, last=-1.0, lastSize=0.0, volume=0.0, close=0.0, bidGreeks=OptionComputation(tickAttrib=0, impliedVol=None, delta=None, optPrice=None, pvDividend=0.0, gamma=None, vega=-2.0, theta=-2.0, undPrice=73.45999908447266), askGreeks=OptionComputation(tickAttrib=0, impliedVol=1.0503599411093978, delta=-0.020831308663507422, optPrice=0.15000000596046448, pvDividend=0.0, gamma=0.0026358270411721177, vega=0.00895254194574685, theta=-0.02129896417224575, undPrice=73.45999908447266), lastGreeks=OptionComputation(tickAttrib=0, impliedVol=None, delta=None, optPrice=None, pvDividend=0.0, gamma=None, vega=-2.0, theta=-2.0, undPrice=73.45999908447266), modelGreeks=OptionComputation(tickAttrib=0, impliedVol=0.6473699488914876, delta=-0.0006949255209293228, optPrice=0.002320709051816297, pvDividend=0.0, gamma=0.00020448993512269396, vega=0.00040550046562549437, theta=-0.0005928658154440226, undPrice=73.52241516113281), bboExchange='c70003', snapshotPermissions=1)"
      ]
     },
     "execution_count": 23,
     "metadata": {},
     "output_type": "execute_result"
    }
   ],
   "source": [
    "tickers[0]"
   ]
  },
  {
   "cell_type": "code",
   "execution_count": 12,
   "metadata": {},
   "outputs": [],
   "source": [
    "ib.disconnect()"
   ]
  }
 ],
 "metadata": {
  "kernelspec": {
   "display_name": ".venv",
   "language": "python",
   "name": "python3"
  },
  "language_info": {
   "codemirror_mode": {
    "name": "ipython",
    "version": 3
   },
   "file_extension": ".py",
   "mimetype": "text/x-python",
   "name": "python",
   "nbconvert_exporter": "python",
   "pygments_lexer": "ipython3",
   "version": "3.11.2"
  }
 },
 "nbformat": 4,
 "nbformat_minor": 2
}
