{
 "cells": [
  {
   "cell_type": "markdown",
   "metadata": {},
   "source": [
    "[FROM HERE](https://github.com/erdewit/ib_insync/blob/master/notebooks/option_chain.ipynb)"
   ]
  },
  {
   "cell_type": "code",
   "execution_count": 1,
   "metadata": {},
   "outputs": [],
   "source": [
    "import plotly.express as px\n",
    "import pandas as pd\n",
    "import numpy as np"
   ]
  },
  {
   "cell_type": "code",
   "execution_count": 2,
   "metadata": {},
   "outputs": [],
   "source": [
    "from ib_insync import *\n",
    "\n",
    "util.startLoop()\n",
    "\n",
    "ib = IB()\n",
    "# Paper\n",
    "ib.connect('127.0.0.1', 7496, clientId=12)\n",
    "\n",
    "# delay data\n",
    "ib.reqMarketDataType(4)"
   ]
  },
  {
   "cell_type": "markdown",
   "metadata": {},
   "source": [
    "Suppose we want to find the options on the SPX, with the following conditions:\n",
    "\n",
    "Use the next three monthly expiries;\n",
    "Use strike prices within +- 20 dollar of the current SPX value;\n",
    "Use strike prices that are a multitude of 5 dollar."
   ]
  },
  {
   "cell_type": "markdown",
   "metadata": {},
   "source": [
    "To avoid issues with market data permissions, we'll use delayed data:"
   ]
  },
  {
   "cell_type": "code",
   "execution_count": 3,
   "metadata": {},
   "outputs": [],
   "source": [
    "ib.reqMarketDataType(4)"
   ]
  },
  {
   "cell_type": "code",
   "execution_count": null,
   "metadata": {},
   "outputs": [],
   "source": [
    "stock_contract = Stock('TREX', 'SMART', 'USD')\n",
    "stock_contract"
   ]
  },
  {
   "cell_type": "code",
   "execution_count": null,
   "metadata": {},
   "outputs": [],
   "source": [
    "# Qualify the contract\n",
    "qualified_contracts = ib.qualifyContracts(stock_contract)\n",
    "stock_contract"
   ]
  },
  {
   "cell_type": "markdown",
   "metadata": {},
   "source": [
    "qualified contracts - req market data - https://algotrading101.com/learn/ib_insync-interactive-brokers-api-guide/"
   ]
  },
  {
   "cell_type": "code",
   "execution_count": 6,
   "metadata": {},
   "outputs": [],
   "source": [
    "if not qualified_contracts:\n",
    "    print(\"No qualified contracts found.\")\n",
    "else:\n",
    "    stock_contract = qualified_contracts[0]\n",
    "\n",
    "    # Request market data\n",
    "    data = ib.reqMktData(stock_contract, '', False, False)\n",
    "    "
   ]
  },
  {
   "cell_type": "code",
   "execution_count": null,
   "metadata": {},
   "outputs": [],
   "source": [
    "stockValue = data.marketPrice()\n",
    "stockValue"
   ]
  },
  {
   "cell_type": "markdown",
   "metadata": {},
   "source": [
    "chain"
   ]
  },
  {
   "cell_type": "code",
   "execution_count": 8,
   "metadata": {},
   "outputs": [],
   "source": [
    "chains = ib.reqSecDefOptParams(stock_contract.symbol, '', stock_contract.secType, stock_contract.conId)\n"
   ]
  },
  {
   "cell_type": "markdown",
   "metadata": {},
   "source": [
    "display chains"
   ]
  },
  {
   "cell_type": "code",
   "execution_count": null,
   "metadata": {},
   "outputs": [],
   "source": [
    "util.df(chains)"
   ]
  },
  {
   "cell_type": "markdown",
   "metadata": {},
   "source": [
    "get chain SMART - tradingClass TREX"
   ]
  },
  {
   "cell_type": "code",
   "execution_count": null,
   "metadata": {},
   "outputs": [],
   "source": [
    "chain = next(c for c in chains if c.tradingClass == 'TREX' and c.exchange == 'SMART')\n",
    "chain"
   ]
  },
  {
   "cell_type": "markdown",
   "metadata": {},
   "source": [
    "get strikes"
   ]
  },
  {
   "cell_type": "code",
   "execution_count": 11,
   "metadata": {},
   "outputs": [],
   "source": [
    "strikes = [strike for strike in chain.strikes\n",
    "        if strike % 5 == 0\n",
    "        and stockValue - 30 < strike < stockValue + 30]"
   ]
  },
  {
   "cell_type": "markdown",
   "metadata": {},
   "source": [
    "# print strikes"
   ]
  },
  {
   "cell_type": "code",
   "execution_count": null,
   "metadata": {},
   "outputs": [],
   "source": [
    "strikes"
   ]
  },
  {
   "cell_type": "markdown",
   "metadata": {},
   "source": [
    "get expirations from chain"
   ]
  },
  {
   "cell_type": "code",
   "execution_count": 13,
   "metadata": {},
   "outputs": [],
   "source": [
    "expirations = sorted(exp for exp in chain.expirations)[:3]"
   ]
  },
  {
   "cell_type": "markdown",
   "metadata": {},
   "source": [
    "# print expirations"
   ]
  },
  {
   "cell_type": "code",
   "execution_count": null,
   "metadata": {},
   "outputs": [],
   "source": [
    "expirations"
   ]
  },
  {
   "cell_type": "markdown",
   "metadata": {},
   "source": [
    "# get contract"
   ]
  },
  {
   "cell_type": "code",
   "execution_count": null,
   "metadata": {},
   "outputs": [],
   "source": [
    "rights = ['P', 'C']\n",
    "\n",
    "contracts = [Option('TREX', expiration, strike, right, 'SMART', tradingClass='TREX')\n",
    "        for right in rights\n",
    "        for expiration in expirations\n",
    "        for strike in strikes]\n",
    "\n",
    "contracts = ib.qualifyContracts(*contracts)\n",
    "len(contracts)"
   ]
  },
  {
   "cell_type": "code",
   "execution_count": null,
   "metadata": {},
   "outputs": [],
   "source": [
    "[c for c in contracts if c.exchange == 'SMART' ]"
   ]
  },
  {
   "cell_type": "markdown",
   "metadata": {},
   "source": [
    "### Get Options Chain for a Specific Symbol"
   ]
  },
  {
   "cell_type": "code",
   "execution_count": 20,
   "metadata": {},
   "outputs": [],
   "source": [
    "def get_option_chain(symbol):\n",
    "    underlying_stock = Stock(symbol=symbol,exchange='SMART',currency='USD')\n",
    "    ib.qualifyContracts(underlying_stock)\n",
    "    chains = ib.reqSecDefOptParams(underlyingSymbol=underlying_stock.symbol,futFopExchange='',underlyingSecType=underlying_stock.secType,underlyingConId=underlying_stock.conId)\n",
    "    chain = [c for c in chains if c.exchange == 'SMART'][0]\n",
    "    return chain"
   ]
  },
  {
   "cell_type": "code",
   "execution_count": null,
   "metadata": {},
   "outputs": [],
   "source": [
    "# get_option_chain(\"TSLA\")\n",
    "get_option_chain(\"TREX\")"
   ]
  },
  {
   "cell_type": "markdown",
   "metadata": {},
   "source": [
    "Get Options For Specific Expiry"
   ]
  },
  {
   "cell_type": "code",
   "execution_count": null,
   "metadata": {},
   "outputs": [],
   "source": [
    "\n",
    "    \n",
    "def org_get_option_chain_for_expiry(symbol,expiry,min_strike=0,max_strike=np.inf):\n",
    "    option_chain = get_option_chain(symbol)\n",
    "    options=[]\n",
    "    for strike in option_chain.strikes:\n",
    "        if strike<=max_strike and strike >= min_strike:\n",
    "            for right in ['C','P']:\n",
    "                option = Option(symbol=symbol,lastTradeDateOrContractMonth=expiry,strike=strike,right=right,exchange='SMART',currency='USD')\n",
    "                options.append(option)\n",
    "    valid_options=ib.qualifyContracts(*options)\n",
    "    return valid_options \n",
    "\n",
    "valid_options=get_option_chain_for_expiry(symbol=\"TREX\",expiry=\"20250325\",min_strike=70,max_strike=80)"
   ]
  },
  {
   "cell_type": "code",
   "execution_count": 34,
   "metadata": {},
   "outputs": [
    {
     "name": "stderr",
     "output_type": "stream",
     "text": [
      "Unknown contract: Option(symbol='TREX', lastTradeDateOrContractMonth='20250325', strike=70.0, right='C', exchange='SMART', currency='USD')\n",
      "Unknown contract: Option(symbol='TREX', lastTradeDateOrContractMonth='20250325', strike=70.0, right='P', exchange='SMART', currency='USD')\n",
      "Unknown contract: Option(symbol='TREX', lastTradeDateOrContractMonth='20250325', strike=72.5, right='C', exchange='SMART', currency='USD')\n",
      "Unknown contract: Option(symbol='TREX', lastTradeDateOrContractMonth='20250325', strike=72.5, right='P', exchange='SMART', currency='USD')\n",
      "Unknown contract: Option(symbol='TREX', lastTradeDateOrContractMonth='20250325', strike=75.0, right='C', exchange='SMART', currency='USD')\n",
      "Unknown contract: Option(symbol='TREX', lastTradeDateOrContractMonth='20250325', strike=75.0, right='P', exchange='SMART', currency='USD')\n",
      "Unknown contract: Option(symbol='TREX', lastTradeDateOrContractMonth='20250325', strike=77.5, right='C', exchange='SMART', currency='USD')\n",
      "Unknown contract: Option(symbol='TREX', lastTradeDateOrContractMonth='20250325', strike=77.5, right='P', exchange='SMART', currency='USD')\n",
      "Unknown contract: Option(symbol='TREX', lastTradeDateOrContractMonth='20250325', strike=80.0, right='C', exchange='SMART', currency='USD')\n",
      "Unknown contract: Option(symbol='TREX', lastTradeDateOrContractMonth='20250325', strike=80.0, right='P', exchange='SMART', currency='USD')\n"
     ]
    }
   ],
   "source": [
    "def get_option_chain_for_expiry(symbol,expiry,min_strike=0,max_strike=np.inf):\n",
    "    option_chain = get_option_chain(symbol)\n",
    "    options=[]\n",
    "    valid_options=[]\n",
    "    for strike in option_chain.strikes:\n",
    "        if strike<=max_strike and strike >= min_strike:\n",
    "            for right in ['C','P']:\n",
    "                option = Option(symbol=symbol,lastTradeDateOrContractMonth=expiry,strike=strike,right=right,exchange='SMART',currency='USD')\n",
    "                valid_option=ib.qualifyContracts(option)\n",
    "                valid_options.append(valid_option)\n",
    "    # valid_options=ib.qualifyContracts(*options)\n",
    "    return valid_options \n",
    "\n",
    "valid_options=get_option_chain_for_expiry(symbol=\"TREX\",expiry=\"20250325\",min_strike=70,max_strike=80)"
   ]
  },
  {
   "cell_type": "code",
   "execution_count": null,
   "metadata": {},
   "outputs": [],
   "source": [
    "# valid_options=get_option_chain_for_expiry(\"TREX\",\"20250325\",min_strike=70,max_strike=80)\n",
    "# valid_options=get_option_chain_for_expiry(symbol=\"TREX\",expiry=\"20250325\",min_strike=70,max_strike=80)"
   ]
  },
  {
   "cell_type": "code",
   "execution_count": 35,
   "metadata": {},
   "outputs": [
    {
     "data": {
      "text/plain": [
       "[[], [], [], [], [], [], [], [], [], []]"
      ]
     },
     "execution_count": 35,
     "metadata": {},
     "output_type": "execute_result"
    }
   ],
   "source": [
    "valid_options"
   ]
  },
  {
   "cell_type": "markdown",
   "metadata": {},
   "source": [
    "Reminder"
   ]
  },
  {
   "cell_type": "markdown",
   "metadata": {},
   "source": [
    "## Get maket data for these valid options for the chosen expiry date"
   ]
  },
  {
   "cell_type": "code",
   "execution_count": null,
   "metadata": {},
   "outputs": [],
   "source": [
    "ticker_dict=[]\n",
    "for option in valid_options:\n",
    "    ticker_dict[(Option.right,option.strike)] = ib.reqMktData(contract=option,genericTickList=\"\",snapshot=False,regulatorySnapshot=False)\n",
    "    "
   ]
  },
  {
   "cell_type": "markdown",
   "metadata": {},
   "source": [
    "### [HIER WEITER](https://www.youtube.com/watch?v=juhi5NpBBro)"
   ]
  },
  {
   "cell_type": "markdown",
   "metadata": {},
   "source": [
    "## first contract"
   ]
  },
  {
   "cell_type": "code",
   "execution_count": null,
   "metadata": {},
   "outputs": [],
   "source": [
    "contracts[0]"
   ]
  },
  {
   "cell_type": "markdown",
   "metadata": {},
   "source": [
    "# Now to get the market data for all options in one go:"
   ]
  },
  {
   "cell_type": "code",
   "execution_count": 22,
   "metadata": {},
   "outputs": [],
   "source": [
    "tickers = ib.reqTickers(*contracts)\n"
   ]
  },
  {
   "cell_type": "markdown",
   "metadata": {},
   "source": []
  },
  {
   "cell_type": "code",
   "execution_count": null,
   "metadata": {},
   "outputs": [],
   "source": [
    "tickers[0]"
   ]
  },
  {
   "cell_type": "markdown",
   "metadata": {},
   "source": []
  },
  {
   "cell_type": "code",
   "execution_count": null,
   "metadata": {},
   "outputs": [],
   "source": [
    "ticker = tickers[0]\n",
    "ticker.midpoint\n",
    "\n",
    "\n"
   ]
  },
  {
   "cell_type": "code",
   "execution_count": null,
   "metadata": {},
   "outputs": [],
   "source": [
    "ticker.ask"
   ]
  },
  {
   "cell_type": "code",
   "execution_count": null,
   "metadata": {},
   "outputs": [],
   "source": [
    "ticker.bid"
   ]
  },
  {
   "cell_type": "code",
   "execution_count": null,
   "metadata": {},
   "outputs": [],
   "source": [
    "ticker.marketPrice"
   ]
  },
  {
   "cell_type": "markdown",
   "metadata": {},
   "source": [
    "get strike price"
   ]
  },
  {
   "cell_type": "code",
   "execution_count": null,
   "metadata": {},
   "outputs": [],
   "source": [
    "#print(f\"{ticker.contract.strike}\")\n",
    "ticker.contract.strike\n",
    "#ticker.impliedVolatility\n",
    "# deltaNeutralContract.delta"
   ]
  },
  {
   "cell_type": "code",
   "execution_count": null,
   "metadata": {},
   "outputs": [],
   "source": [
    "type(ticker)"
   ]
  },
  {
   "cell_type": "code",
   "execution_count": 12,
   "metadata": {},
   "outputs": [],
   "source": [
    "ib.disconnect()"
   ]
  }
 ],
 "metadata": {
  "kernelspec": {
   "display_name": ".venv",
   "language": "python",
   "name": "python3"
  },
  "language_info": {
   "codemirror_mode": {
    "name": "ipython",
    "version": 3
   },
   "file_extension": ".py",
   "mimetype": "text/x-python",
   "name": "python",
   "nbconvert_exporter": "python",
   "pygments_lexer": "ipython3",
   "version": "3.11.2"
  }
 },
 "nbformat": 4,
 "nbformat_minor": 2
}
