{
 "cells": [
  {
   "cell_type": "markdown",
   "metadata": {},
   "source": [
    "[FROM HERE](https://github.com/erdewit/ib_insync/blob/master/notebooks/option_chain.ipynb)"
   ]
  },
  {
   "cell_type": "code",
   "execution_count": 4,
   "metadata": {},
   "outputs": [],
   "source": [
    "from ib_insync import *\n",
    "util.startLoop()\n",
    "\n",
    "ib = IB()\n",
    "# Paper\n",
    "ib.connect('127.0.0.1', 7496, clientId=12)\n",
    "\n",
    "# delay data\n",
    "ib.reqMarketDataType(4)"
   ]
  },
  {
   "cell_type": "markdown",
   "metadata": {},
   "source": [
    "Suppose we want to find the options on the SPX, with the following conditions:\n",
    "\n",
    "Use the next three monthly expiries;\n",
    "Use strike prices within +- 20 dollar of the current SPX value;\n",
    "Use strike prices that are a multitude of 5 dollar."
   ]
  },
  {
   "cell_type": "markdown",
   "metadata": {},
   "source": [
    "To avoid issues with market data permissions, we'll use delayed data:"
   ]
  },
  {
   "cell_type": "code",
   "execution_count": 5,
   "metadata": {},
   "outputs": [],
   "source": [
    "ib.reqMarketDataType(4)"
   ]
  },
  {
   "cell_type": "code",
   "execution_count": 6,
   "metadata": {},
   "outputs": [
    {
     "data": {
      "text/plain": [
       "Stock(symbol='TREX', exchange='SMART', currency='USD')"
      ]
     },
     "execution_count": 6,
     "metadata": {},
     "output_type": "execute_result"
    }
   ],
   "source": [
    "stock_contract = Stock('TREX', 'SMART', 'USD')\n",
    "stock_contract"
   ]
  },
  {
   "cell_type": "code",
   "execution_count": 7,
   "metadata": {},
   "outputs": [
    {
     "data": {
      "text/plain": [
       "Stock(conId=6608603, symbol='TREX', exchange='SMART', primaryExchange='NYSE', currency='USD', localSymbol='TREX', tradingClass='TREX')"
      ]
     },
     "execution_count": 7,
     "metadata": {},
     "output_type": "execute_result"
    }
   ],
   "source": [
    "# Qualify the contract\n",
    "qualified_contracts = ib.qualifyContracts(stock_contract)\n",
    "stock_contract"
   ]
  },
  {
   "cell_type": "markdown",
   "metadata": {},
   "source": [
    "qualified contracts - req market data - https://algotrading101.com/learn/ib_insync-interactive-brokers-api-guide/"
   ]
  },
  {
   "cell_type": "code",
   "execution_count": 8,
   "metadata": {},
   "outputs": [],
   "source": [
    "if not qualified_contracts:\n",
    "    print(\"No qualified contracts found.\")\n",
    "else:\n",
    "    stock_contract = qualified_contracts[0]\n",
    "\n",
    "    # Request market data\n",
    "    data = ib.reqMktData(stock_contract, '', False, False)\n",
    "    "
   ]
  },
  {
   "cell_type": "code",
   "execution_count": 9,
   "metadata": {},
   "outputs": [
    {
     "data": {
      "text/plain": [
       "73.34"
      ]
     },
     "execution_count": 9,
     "metadata": {},
     "output_type": "execute_result"
    }
   ],
   "source": [
    "stockValue = data.marketPrice()\n",
    "stockValue"
   ]
  },
  {
   "cell_type": "markdown",
   "metadata": {},
   "source": [
    "chain"
   ]
  },
  {
   "cell_type": "code",
   "execution_count": 57,
   "metadata": {},
   "outputs": [],
   "source": [
    "chains = ib.reqSecDefOptParams(stock_contract.symbol, '', stock_contract.secType, stock_contract.conId)\n"
   ]
  },
  {
   "cell_type": "markdown",
   "metadata": {},
   "source": [
    "display chains"
   ]
  },
  {
   "cell_type": "code",
   "execution_count": 58,
   "metadata": {},
   "outputs": [
    {
     "data": {
      "text/html": [
       "<div>\n",
       "<style scoped>\n",
       "    .dataframe tbody tr th:only-of-type {\n",
       "        vertical-align: middle;\n",
       "    }\n",
       "\n",
       "    .dataframe tbody tr th {\n",
       "        vertical-align: top;\n",
       "    }\n",
       "\n",
       "    .dataframe thead th {\n",
       "        text-align: right;\n",
       "    }\n",
       "</style>\n",
       "<table border=\"1\" class=\"dataframe\">\n",
       "  <thead>\n",
       "    <tr style=\"text-align: right;\">\n",
       "      <th></th>\n",
       "      <th>exchange</th>\n",
       "      <th>underlyingConId</th>\n",
       "      <th>tradingClass</th>\n",
       "      <th>multiplier</th>\n",
       "      <th>expirations</th>\n",
       "      <th>strikes</th>\n",
       "    </tr>\n",
       "  </thead>\n",
       "  <tbody>\n",
       "    <tr>\n",
       "      <th>0</th>\n",
       "      <td>EDGX</td>\n",
       "      <td>6608603</td>\n",
       "      <td>TREX</td>\n",
       "      <td>100</td>\n",
       "      <td>[20250221, 20250321, 20250417, 20250718]</td>\n",
       "      <td>[30.0, 35.0, 40.0, 45.0, 47.5, 50.0, 55.0, 57....</td>\n",
       "    </tr>\n",
       "    <tr>\n",
       "      <th>1</th>\n",
       "      <td>MIAX</td>\n",
       "      <td>6608603</td>\n",
       "      <td>TREX</td>\n",
       "      <td>100</td>\n",
       "      <td>[20250221, 20250321, 20250417, 20250718]</td>\n",
       "      <td>[30.0, 35.0, 40.0, 45.0, 47.5, 50.0, 55.0, 57....</td>\n",
       "    </tr>\n",
       "    <tr>\n",
       "      <th>2</th>\n",
       "      <td>SMART</td>\n",
       "      <td>6608603</td>\n",
       "      <td>TREX</td>\n",
       "      <td>100</td>\n",
       "      <td>[20250221, 20250321, 20250417, 20250718]</td>\n",
       "      <td>[30.0, 35.0, 40.0, 45.0, 47.5, 50.0, 55.0, 57....</td>\n",
       "    </tr>\n",
       "    <tr>\n",
       "      <th>3</th>\n",
       "      <td>BOX</td>\n",
       "      <td>6608603</td>\n",
       "      <td>TREX</td>\n",
       "      <td>100</td>\n",
       "      <td>[20250221, 20250321, 20250417, 20250718]</td>\n",
       "      <td>[30.0, 35.0, 40.0, 45.0, 47.5, 50.0, 55.0, 57....</td>\n",
       "    </tr>\n",
       "    <tr>\n",
       "      <th>4</th>\n",
       "      <td>CBOE2</td>\n",
       "      <td>6608603</td>\n",
       "      <td>TREX</td>\n",
       "      <td>100</td>\n",
       "      <td>[20250221, 20250321, 20250417, 20250718]</td>\n",
       "      <td>[30.0, 35.0, 40.0, 45.0, 47.5, 50.0, 55.0, 57....</td>\n",
       "    </tr>\n",
       "    <tr>\n",
       "      <th>5</th>\n",
       "      <td>SAPPHIRE</td>\n",
       "      <td>6608603</td>\n",
       "      <td>TREX</td>\n",
       "      <td>100</td>\n",
       "      <td>[20250221, 20250321, 20250417, 20250718]</td>\n",
       "      <td>[30.0, 35.0, 40.0, 45.0, 47.5, 50.0, 55.0, 57....</td>\n",
       "    </tr>\n",
       "    <tr>\n",
       "      <th>6</th>\n",
       "      <td>BATS</td>\n",
       "      <td>6608603</td>\n",
       "      <td>TREX</td>\n",
       "      <td>100</td>\n",
       "      <td>[20250221, 20250321, 20250417, 20250718]</td>\n",
       "      <td>[30.0, 35.0, 40.0, 45.0, 47.5, 50.0, 55.0, 57....</td>\n",
       "    </tr>\n",
       "    <tr>\n",
       "      <th>7</th>\n",
       "      <td>IBUSOPT</td>\n",
       "      <td>6608603</td>\n",
       "      <td>TREX</td>\n",
       "      <td>100</td>\n",
       "      <td>[20250221, 20250321, 20250417, 20250718]</td>\n",
       "      <td>[30.0, 35.0, 40.0, 45.0, 47.5, 50.0, 55.0, 57....</td>\n",
       "    </tr>\n",
       "    <tr>\n",
       "      <th>8</th>\n",
       "      <td>MEMX</td>\n",
       "      <td>6608603</td>\n",
       "      <td>TREX</td>\n",
       "      <td>100</td>\n",
       "      <td>[20250221, 20250321, 20250417, 20250718]</td>\n",
       "      <td>[30.0, 35.0, 40.0, 45.0, 47.5, 50.0, 55.0, 57....</td>\n",
       "    </tr>\n",
       "    <tr>\n",
       "      <th>9</th>\n",
       "      <td>PSE</td>\n",
       "      <td>6608603</td>\n",
       "      <td>TREX</td>\n",
       "      <td>100</td>\n",
       "      <td>[20250221, 20250321, 20250417, 20250718]</td>\n",
       "      <td>[30.0, 35.0, 40.0, 45.0, 47.5, 50.0, 55.0, 57....</td>\n",
       "    </tr>\n",
       "    <tr>\n",
       "      <th>10</th>\n",
       "      <td>EMERALD</td>\n",
       "      <td>6608603</td>\n",
       "      <td>TREX</td>\n",
       "      <td>100</td>\n",
       "      <td>[20250221, 20250321, 20250417, 20250718]</td>\n",
       "      <td>[30.0, 35.0, 40.0, 45.0, 47.5, 50.0, 55.0, 57....</td>\n",
       "    </tr>\n",
       "    <tr>\n",
       "      <th>11</th>\n",
       "      <td>NASDAQOM</td>\n",
       "      <td>6608603</td>\n",
       "      <td>TREX</td>\n",
       "      <td>100</td>\n",
       "      <td>[20250221, 20250321, 20250417, 20250718]</td>\n",
       "      <td>[30.0, 35.0, 40.0, 45.0, 47.5, 50.0, 55.0, 57....</td>\n",
       "    </tr>\n",
       "    <tr>\n",
       "      <th>12</th>\n",
       "      <td>PHLX</td>\n",
       "      <td>6608603</td>\n",
       "      <td>TREX</td>\n",
       "      <td>100</td>\n",
       "      <td>[20250221, 20250321, 20250417, 20250718]</td>\n",
       "      <td>[30.0, 35.0, 40.0, 45.0, 47.5, 50.0, 55.0, 57....</td>\n",
       "    </tr>\n",
       "    <tr>\n",
       "      <th>13</th>\n",
       "      <td>ISE</td>\n",
       "      <td>6608603</td>\n",
       "      <td>TREX</td>\n",
       "      <td>100</td>\n",
       "      <td>[20250221, 20250321, 20250417, 20250718]</td>\n",
       "      <td>[30.0, 35.0, 40.0, 45.0, 47.5, 50.0, 55.0, 57....</td>\n",
       "    </tr>\n",
       "    <tr>\n",
       "      <th>14</th>\n",
       "      <td>AMEX</td>\n",
       "      <td>6608603</td>\n",
       "      <td>TREX</td>\n",
       "      <td>100</td>\n",
       "      <td>[20250221, 20250321, 20250417, 20250718]</td>\n",
       "      <td>[30.0, 35.0, 40.0, 45.0, 47.5, 50.0, 55.0, 57....</td>\n",
       "    </tr>\n",
       "    <tr>\n",
       "      <th>15</th>\n",
       "      <td>GEMINI</td>\n",
       "      <td>6608603</td>\n",
       "      <td>TREX</td>\n",
       "      <td>100</td>\n",
       "      <td>[20250221, 20250321, 20250417, 20250718]</td>\n",
       "      <td>[30.0, 35.0, 40.0, 45.0, 47.5, 50.0, 55.0, 57....</td>\n",
       "    </tr>\n",
       "    <tr>\n",
       "      <th>16</th>\n",
       "      <td>PEARL</td>\n",
       "      <td>6608603</td>\n",
       "      <td>TREX</td>\n",
       "      <td>100</td>\n",
       "      <td>[20250221, 20250321, 20250417, 20250718]</td>\n",
       "      <td>[30.0, 35.0, 40.0, 45.0, 47.5, 50.0, 55.0, 57....</td>\n",
       "    </tr>\n",
       "    <tr>\n",
       "      <th>17</th>\n",
       "      <td>NASDAQBX</td>\n",
       "      <td>6608603</td>\n",
       "      <td>TREX</td>\n",
       "      <td>100</td>\n",
       "      <td>[20250221, 20250321, 20250417, 20250718]</td>\n",
       "      <td>[30.0, 35.0, 40.0, 45.0, 47.5, 50.0, 55.0, 57....</td>\n",
       "    </tr>\n",
       "    <tr>\n",
       "      <th>18</th>\n",
       "      <td>CBOE</td>\n",
       "      <td>6608603</td>\n",
       "      <td>TREX</td>\n",
       "      <td>100</td>\n",
       "      <td>[20250221, 20250321, 20250417, 20250718]</td>\n",
       "      <td>[30.0, 35.0, 40.0, 45.0, 47.5, 50.0, 55.0, 57....</td>\n",
       "    </tr>\n",
       "    <tr>\n",
       "      <th>19</th>\n",
       "      <td>MERCURY</td>\n",
       "      <td>6608603</td>\n",
       "      <td>TREX</td>\n",
       "      <td>100</td>\n",
       "      <td>[20250221, 20250321, 20250417, 20250718]</td>\n",
       "      <td>[30.0, 35.0, 40.0, 45.0, 47.5, 50.0, 55.0, 57....</td>\n",
       "    </tr>\n",
       "  </tbody>\n",
       "</table>\n",
       "</div>"
      ],
      "text/plain": [
       "    exchange underlyingConId tradingClass multiplier  \\\n",
       "0       EDGX         6608603         TREX        100   \n",
       "1       MIAX         6608603         TREX        100   \n",
       "2      SMART         6608603         TREX        100   \n",
       "3        BOX         6608603         TREX        100   \n",
       "4      CBOE2         6608603         TREX        100   \n",
       "5   SAPPHIRE         6608603         TREX        100   \n",
       "6       BATS         6608603         TREX        100   \n",
       "7    IBUSOPT         6608603         TREX        100   \n",
       "8       MEMX         6608603         TREX        100   \n",
       "9        PSE         6608603         TREX        100   \n",
       "10   EMERALD         6608603         TREX        100   \n",
       "11  NASDAQOM         6608603         TREX        100   \n",
       "12      PHLX         6608603         TREX        100   \n",
       "13       ISE         6608603         TREX        100   \n",
       "14      AMEX         6608603         TREX        100   \n",
       "15    GEMINI         6608603         TREX        100   \n",
       "16     PEARL         6608603         TREX        100   \n",
       "17  NASDAQBX         6608603         TREX        100   \n",
       "18      CBOE         6608603         TREX        100   \n",
       "19   MERCURY         6608603         TREX        100   \n",
       "\n",
       "                                 expirations  \\\n",
       "0   [20250221, 20250321, 20250417, 20250718]   \n",
       "1   [20250221, 20250321, 20250417, 20250718]   \n",
       "2   [20250221, 20250321, 20250417, 20250718]   \n",
       "3   [20250221, 20250321, 20250417, 20250718]   \n",
       "4   [20250221, 20250321, 20250417, 20250718]   \n",
       "5   [20250221, 20250321, 20250417, 20250718]   \n",
       "6   [20250221, 20250321, 20250417, 20250718]   \n",
       "7   [20250221, 20250321, 20250417, 20250718]   \n",
       "8   [20250221, 20250321, 20250417, 20250718]   \n",
       "9   [20250221, 20250321, 20250417, 20250718]   \n",
       "10  [20250221, 20250321, 20250417, 20250718]   \n",
       "11  [20250221, 20250321, 20250417, 20250718]   \n",
       "12  [20250221, 20250321, 20250417, 20250718]   \n",
       "13  [20250221, 20250321, 20250417, 20250718]   \n",
       "14  [20250221, 20250321, 20250417, 20250718]   \n",
       "15  [20250221, 20250321, 20250417, 20250718]   \n",
       "16  [20250221, 20250321, 20250417, 20250718]   \n",
       "17  [20250221, 20250321, 20250417, 20250718]   \n",
       "18  [20250221, 20250321, 20250417, 20250718]   \n",
       "19  [20250221, 20250321, 20250417, 20250718]   \n",
       "\n",
       "                                              strikes  \n",
       "0   [30.0, 35.0, 40.0, 45.0, 47.5, 50.0, 55.0, 57....  \n",
       "1   [30.0, 35.0, 40.0, 45.0, 47.5, 50.0, 55.0, 57....  \n",
       "2   [30.0, 35.0, 40.0, 45.0, 47.5, 50.0, 55.0, 57....  \n",
       "3   [30.0, 35.0, 40.0, 45.0, 47.5, 50.0, 55.0, 57....  \n",
       "4   [30.0, 35.0, 40.0, 45.0, 47.5, 50.0, 55.0, 57....  \n",
       "5   [30.0, 35.0, 40.0, 45.0, 47.5, 50.0, 55.0, 57....  \n",
       "6   [30.0, 35.0, 40.0, 45.0, 47.5, 50.0, 55.0, 57....  \n",
       "7   [30.0, 35.0, 40.0, 45.0, 47.5, 50.0, 55.0, 57....  \n",
       "8   [30.0, 35.0, 40.0, 45.0, 47.5, 50.0, 55.0, 57....  \n",
       "9   [30.0, 35.0, 40.0, 45.0, 47.5, 50.0, 55.0, 57....  \n",
       "10  [30.0, 35.0, 40.0, 45.0, 47.5, 50.0, 55.0, 57....  \n",
       "11  [30.0, 35.0, 40.0, 45.0, 47.5, 50.0, 55.0, 57....  \n",
       "12  [30.0, 35.0, 40.0, 45.0, 47.5, 50.0, 55.0, 57....  \n",
       "13  [30.0, 35.0, 40.0, 45.0, 47.5, 50.0, 55.0, 57....  \n",
       "14  [30.0, 35.0, 40.0, 45.0, 47.5, 50.0, 55.0, 57....  \n",
       "15  [30.0, 35.0, 40.0, 45.0, 47.5, 50.0, 55.0, 57....  \n",
       "16  [30.0, 35.0, 40.0, 45.0, 47.5, 50.0, 55.0, 57....  \n",
       "17  [30.0, 35.0, 40.0, 45.0, 47.5, 50.0, 55.0, 57....  \n",
       "18  [30.0, 35.0, 40.0, 45.0, 47.5, 50.0, 55.0, 57....  \n",
       "19  [30.0, 35.0, 40.0, 45.0, 47.5, 50.0, 55.0, 57....  "
      ]
     },
     "execution_count": 58,
     "metadata": {},
     "output_type": "execute_result"
    }
   ],
   "source": [
    "util.df(chains)"
   ]
  },
  {
   "cell_type": "markdown",
   "metadata": {},
   "source": [
    "get chain SMART - tradingClass TREX"
   ]
  },
  {
   "cell_type": "code",
   "execution_count": 59,
   "metadata": {},
   "outputs": [
    {
     "data": {
      "text/plain": [
       "OptionChain(exchange='SMART', underlyingConId='6608603', tradingClass='TREX', multiplier='100', expirations=['20250221', '20250321', '20250417', '20250718'], strikes=[30.0, 35.0, 40.0, 45.0, 47.5, 50.0, 55.0, 57.5, 60.0, 62.5, 65.0, 67.5, 70.0, 72.5, 75.0, 77.5, 80.0, 82.5, 85.0, 90.0, 95.0, 100.0, 105.0, 110.0, 115.0])"
      ]
     },
     "execution_count": 59,
     "metadata": {},
     "output_type": "execute_result"
    }
   ],
   "source": [
    "chain = next(c for c in chains if c.tradingClass == 'TREX' and c.exchange == 'SMART')\n",
    "chain"
   ]
  },
  {
   "cell_type": "markdown",
   "metadata": {},
   "source": [
    "get strikes"
   ]
  },
  {
   "cell_type": "code",
   "execution_count": 60,
   "metadata": {},
   "outputs": [],
   "source": [
    "strikes = [strike for strike in chain.strikes\n",
    "        if strike % 5 == 0\n",
    "        and stockValue - 30 < strike < stockValue + 30]"
   ]
  },
  {
   "cell_type": "markdown",
   "metadata": {},
   "source": [
    "# print strikes"
   ]
  },
  {
   "cell_type": "code",
   "execution_count": 61,
   "metadata": {},
   "outputs": [
    {
     "data": {
      "text/plain": [
       "[45.0, 50.0, 55.0, 60.0, 65.0, 70.0, 75.0, 80.0, 85.0, 90.0, 95.0, 100.0]"
      ]
     },
     "execution_count": 61,
     "metadata": {},
     "output_type": "execute_result"
    }
   ],
   "source": [
    "strikes"
   ]
  },
  {
   "cell_type": "markdown",
   "metadata": {},
   "source": [
    "get expirations from chain"
   ]
  },
  {
   "cell_type": "code",
   "execution_count": 62,
   "metadata": {},
   "outputs": [],
   "source": [
    "expirations = sorted(exp for exp in chain.expirations)[:3]"
   ]
  },
  {
   "cell_type": "markdown",
   "metadata": {},
   "source": [
    "# print expirations"
   ]
  },
  {
   "cell_type": "code",
   "execution_count": 63,
   "metadata": {},
   "outputs": [
    {
     "data": {
      "text/plain": [
       "['20250221', '20250321', '20250417']"
      ]
     },
     "execution_count": 63,
     "metadata": {},
     "output_type": "execute_result"
    }
   ],
   "source": [
    "expirations"
   ]
  },
  {
   "cell_type": "markdown",
   "metadata": {},
   "source": [
    "# get contract"
   ]
  },
  {
   "cell_type": "code",
   "execution_count": 64,
   "metadata": {},
   "outputs": [
    {
     "data": {
      "text/plain": [
       "72"
      ]
     },
     "execution_count": 64,
     "metadata": {},
     "output_type": "execute_result"
    }
   ],
   "source": [
    "rights = ['P', 'C']\n",
    "\n",
    "contracts = [Option('TREX', expiration, strike, right, 'SMART', tradingClass='TREX')\n",
    "        for right in rights\n",
    "        for expiration in expirations\n",
    "        for strike in strikes]\n",
    "\n",
    "contracts = ib.qualifyContracts(*contracts)\n",
    "len(contracts)"
   ]
  },
  {
   "cell_type": "code",
   "execution_count": 65,
   "metadata": {},
   "outputs": [
    {
     "data": {
      "text/plain": [
       "[Option(conId=749705113, symbol='TREX', lastTradeDateOrContractMonth='20250221', strike=45.0, right='P', multiplier='100', exchange='SMART', currency='USD', localSymbol='TREX  250221P00045000', tradingClass='TREX'),\n",
       " Option(conId=749705188, symbol='TREX', lastTradeDateOrContractMonth='20250221', strike=50.0, right='P', multiplier='100', exchange='SMART', currency='USD', localSymbol='TREX  250221P00050000', tradingClass='TREX'),\n",
       " Option(conId=749705256, symbol='TREX', lastTradeDateOrContractMonth='20250221', strike=55.0, right='P', multiplier='100', exchange='SMART', currency='USD', localSymbol='TREX  250221P00055000', tradingClass='TREX'),\n",
       " Option(conId=749705335, symbol='TREX', lastTradeDateOrContractMonth='20250221', strike=60.0, right='P', multiplier='100', exchange='SMART', currency='USD', localSymbol='TREX  250221P00060000', tradingClass='TREX'),\n",
       " Option(conId=749705396, symbol='TREX', lastTradeDateOrContractMonth='20250221', strike=65.0, right='P', multiplier='100', exchange='SMART', currency='USD', localSymbol='TREX  250221P00065000', tradingClass='TREX'),\n",
       " Option(conId=749705528, symbol='TREX', lastTradeDateOrContractMonth='20250221', strike=70.0, right='P', multiplier='100', exchange='SMART', currency='USD', localSymbol='TREX  250221P00070000', tradingClass='TREX'),\n",
       " Option(conId=749705671, symbol='TREX', lastTradeDateOrContractMonth='20250221', strike=75.0, right='P', multiplier='100', exchange='SMART', currency='USD', localSymbol='TREX  250221P00075000', tradingClass='TREX'),\n",
       " Option(conId=749705801, symbol='TREX', lastTradeDateOrContractMonth='20250221', strike=80.0, right='P', multiplier='100', exchange='SMART', currency='USD', localSymbol='TREX  250221P00080000', tradingClass='TREX'),\n",
       " Option(conId=749705866, symbol='TREX', lastTradeDateOrContractMonth='20250221', strike=85.0, right='P', multiplier='100', exchange='SMART', currency='USD', localSymbol='TREX  250221P00085000', tradingClass='TREX'),\n",
       " Option(conId=749705924, symbol='TREX', lastTradeDateOrContractMonth='20250221', strike=90.0, right='P', multiplier='100', exchange='SMART', currency='USD', localSymbol='TREX  250221P00090000', tradingClass='TREX'),\n",
       " Option(conId=749705981, symbol='TREX', lastTradeDateOrContractMonth='20250221', strike=95.0, right='P', multiplier='100', exchange='SMART', currency='USD', localSymbol='TREX  250221P00095000', tradingClass='TREX'),\n",
       " Option(conId=749704718, symbol='TREX', lastTradeDateOrContractMonth='20250221', strike=100.0, right='P', multiplier='100', exchange='SMART', currency='USD', localSymbol='TREX  250221P00100000', tradingClass='TREX'),\n",
       " Option(conId=755153940, symbol='TREX', lastTradeDateOrContractMonth='20250321', strike=45.0, right='P', multiplier='100', exchange='SMART', currency='USD', localSymbol='TREX  250321P00045000', tradingClass='TREX'),\n",
       " Option(conId=755154076, symbol='TREX', lastTradeDateOrContractMonth='20250321', strike=50.0, right='P', multiplier='100', exchange='SMART', currency='USD', localSymbol='TREX  250321P00050000', tradingClass='TREX'),\n",
       " Option(conId=755154158, symbol='TREX', lastTradeDateOrContractMonth='20250321', strike=55.0, right='P', multiplier='100', exchange='SMART', currency='USD', localSymbol='TREX  250321P00055000', tradingClass='TREX'),\n",
       " Option(conId=755154231, symbol='TREX', lastTradeDateOrContractMonth='20250321', strike=60.0, right='P', multiplier='100', exchange='SMART', currency='USD', localSymbol='TREX  250321P00060000', tradingClass='TREX'),\n",
       " Option(conId=755154357, symbol='TREX', lastTradeDateOrContractMonth='20250321', strike=65.0, right='P', multiplier='100', exchange='SMART', currency='USD', localSymbol='TREX  250321P00065000', tradingClass='TREX'),\n",
       " Option(conId=755154474, symbol='TREX', lastTradeDateOrContractMonth='20250321', strike=70.0, right='P', multiplier='100', exchange='SMART', currency='USD', localSymbol='TREX  250321P00070000', tradingClass='TREX'),\n",
       " Option(conId=755154594, symbol='TREX', lastTradeDateOrContractMonth='20250321', strike=75.0, right='P', multiplier='100', exchange='SMART', currency='USD', localSymbol='TREX  250321P00075000', tradingClass='TREX'),\n",
       " Option(conId=755154700, symbol='TREX', lastTradeDateOrContractMonth='20250321', strike=80.0, right='P', multiplier='100', exchange='SMART', currency='USD', localSymbol='TREX  250321P00080000', tradingClass='TREX'),\n",
       " Option(conId=755154759, symbol='TREX', lastTradeDateOrContractMonth='20250321', strike=85.0, right='P', multiplier='100', exchange='SMART', currency='USD', localSymbol='TREX  250321P00085000', tradingClass='TREX'),\n",
       " Option(conId=755154832, symbol='TREX', lastTradeDateOrContractMonth='20250321', strike=90.0, right='P', multiplier='100', exchange='SMART', currency='USD', localSymbol='TREX  250321P00090000', tradingClass='TREX'),\n",
       " Option(conId=755154919, symbol='TREX', lastTradeDateOrContractMonth='20250321', strike=95.0, right='P', multiplier='100', exchange='SMART', currency='USD', localSymbol='TREX  250321P00095000', tradingClass='TREX'),\n",
       " Option(conId=755153761, symbol='TREX', lastTradeDateOrContractMonth='20250321', strike=100.0, right='P', multiplier='100', exchange='SMART', currency='USD', localSymbol='TREX  250321P00100000', tradingClass='TREX'),\n",
       " Option(conId=723284763, symbol='TREX', lastTradeDateOrContractMonth='20250417', strike=45.0, right='P', multiplier='100', exchange='SMART', currency='USD', localSymbol='TREX  250417P00045000', tradingClass='TREX'),\n",
       " Option(conId=723284850, symbol='TREX', lastTradeDateOrContractMonth='20250417', strike=50.0, right='P', multiplier='100', exchange='SMART', currency='USD', localSymbol='TREX  250417P00050000', tradingClass='TREX'),\n",
       " Option(conId=723284911, symbol='TREX', lastTradeDateOrContractMonth='20250417', strike=55.0, right='P', multiplier='100', exchange='SMART', currency='USD', localSymbol='TREX  250417P00055000', tradingClass='TREX'),\n",
       " Option(conId=723284986, symbol='TREX', lastTradeDateOrContractMonth='20250417', strike=60.0, right='P', multiplier='100', exchange='SMART', currency='USD', localSymbol='TREX  250417P00060000', tradingClass='TREX'),\n",
       " Option(conId=723285079, symbol='TREX', lastTradeDateOrContractMonth='20250417', strike=65.0, right='P', multiplier='100', exchange='SMART', currency='USD', localSymbol='TREX  250417P00065000', tradingClass='TREX'),\n",
       " Option(conId=723285120, symbol='TREX', lastTradeDateOrContractMonth='20250417', strike=70.0, right='P', multiplier='100', exchange='SMART', currency='USD', localSymbol='TREX  250417P00070000', tradingClass='TREX'),\n",
       " Option(conId=723285177, symbol='TREX', lastTradeDateOrContractMonth='20250417', strike=75.0, right='P', multiplier='100', exchange='SMART', currency='USD', localSymbol='TREX  250417P00075000', tradingClass='TREX'),\n",
       " Option(conId=723285239, symbol='TREX', lastTradeDateOrContractMonth='20250417', strike=80.0, right='P', multiplier='100', exchange='SMART', currency='USD', localSymbol='TREX  250417P00080000', tradingClass='TREX'),\n",
       " Option(conId=723285291, symbol='TREX', lastTradeDateOrContractMonth='20250417', strike=85.0, right='P', multiplier='100', exchange='SMART', currency='USD', localSymbol='TREX  250417P00085000', tradingClass='TREX'),\n",
       " Option(conId=723285354, symbol='TREX', lastTradeDateOrContractMonth='20250417', strike=90.0, right='P', multiplier='100', exchange='SMART', currency='USD', localSymbol='TREX  250417P00090000', tradingClass='TREX'),\n",
       " Option(conId=724535647, symbol='TREX', lastTradeDateOrContractMonth='20250417', strike=95.0, right='P', multiplier='100', exchange='SMART', currency='USD', localSymbol='TREX  250417P00095000', tradingClass='TREX'),\n",
       " Option(conId=730766150, symbol='TREX', lastTradeDateOrContractMonth='20250417', strike=100.0, right='P', multiplier='100', exchange='SMART', currency='USD', localSymbol='TREX  250417P00100000', tradingClass='TREX'),\n",
       " Option(conId=749703695, symbol='TREX', lastTradeDateOrContractMonth='20250221', strike=45.0, right='C', multiplier='100', exchange='SMART', currency='USD', localSymbol='TREX  250221C00045000', tradingClass='TREX'),\n",
       " Option(conId=749703770, symbol='TREX', lastTradeDateOrContractMonth='20250221', strike=50.0, right='C', multiplier='100', exchange='SMART', currency='USD', localSymbol='TREX  250221C00050000', tradingClass='TREX'),\n",
       " Option(conId=749703830, symbol='TREX', lastTradeDateOrContractMonth='20250221', strike=55.0, right='C', multiplier='100', exchange='SMART', currency='USD', localSymbol='TREX  250221C00055000', tradingClass='TREX'),\n",
       " Option(conId=749703896, symbol='TREX', lastTradeDateOrContractMonth='20250221', strike=60.0, right='C', multiplier='100', exchange='SMART', currency='USD', localSymbol='TREX  250221C00060000', tradingClass='TREX'),\n",
       " Option(conId=749703974, symbol='TREX', lastTradeDateOrContractMonth='20250221', strike=65.0, right='C', multiplier='100', exchange='SMART', currency='USD', localSymbol='TREX  250221C00065000', tradingClass='TREX'),\n",
       " Option(conId=749704117, symbol='TREX', lastTradeDateOrContractMonth='20250221', strike=70.0, right='C', multiplier='100', exchange='SMART', currency='USD', localSymbol='TREX  250221C00070000', tradingClass='TREX'),\n",
       " Option(conId=749704281, symbol='TREX', lastTradeDateOrContractMonth='20250221', strike=75.0, right='C', multiplier='100', exchange='SMART', currency='USD', localSymbol='TREX  250221C00075000', tradingClass='TREX'),\n",
       " Option(conId=749704411, symbol='TREX', lastTradeDateOrContractMonth='20250221', strike=80.0, right='C', multiplier='100', exchange='SMART', currency='USD', localSymbol='TREX  250221C00080000', tradingClass='TREX'),\n",
       " Option(conId=749704500, symbol='TREX', lastTradeDateOrContractMonth='20250221', strike=85.0, right='C', multiplier='100', exchange='SMART', currency='USD', localSymbol='TREX  250221C00085000', tradingClass='TREX'),\n",
       " Option(conId=749704548, symbol='TREX', lastTradeDateOrContractMonth='20250221', strike=90.0, right='C', multiplier='100', exchange='SMART', currency='USD', localSymbol='TREX  250221C00090000', tradingClass='TREX'),\n",
       " Option(conId=749704627, symbol='TREX', lastTradeDateOrContractMonth='20250221', strike=95.0, right='C', multiplier='100', exchange='SMART', currency='USD', localSymbol='TREX  250221C00095000', tradingClass='TREX'),\n",
       " Option(conId=749703278, symbol='TREX', lastTradeDateOrContractMonth='20250221', strike=100.0, right='C', multiplier='100', exchange='SMART', currency='USD', localSymbol='TREX  250221C00100000', tradingClass='TREX'),\n",
       " Option(conId=755152721, symbol='TREX', lastTradeDateOrContractMonth='20250321', strike=45.0, right='C', multiplier='100', exchange='SMART', currency='USD', localSymbol='TREX  250321C00045000', tradingClass='TREX'),\n",
       " Option(conId=755152831, symbol='TREX', lastTradeDateOrContractMonth='20250321', strike=50.0, right='C', multiplier='100', exchange='SMART', currency='USD', localSymbol='TREX  250321C00050000', tradingClass='TREX'),\n",
       " Option(conId=755152884, symbol='TREX', lastTradeDateOrContractMonth='20250321', strike=55.0, right='C', multiplier='100', exchange='SMART', currency='USD', localSymbol='TREX  250321C00055000', tradingClass='TREX'),\n",
       " Option(conId=755152957, symbol='TREX', lastTradeDateOrContractMonth='20250321', strike=60.0, right='C', multiplier='100', exchange='SMART', currency='USD', localSymbol='TREX  250321C00060000', tradingClass='TREX'),\n",
       " Option(conId=755153107, symbol='TREX', lastTradeDateOrContractMonth='20250321', strike=65.0, right='C', multiplier='100', exchange='SMART', currency='USD', localSymbol='TREX  250321C00065000', tradingClass='TREX'),\n",
       " Option(conId=755153247, symbol='TREX', lastTradeDateOrContractMonth='20250321', strike=70.0, right='C', multiplier='100', exchange='SMART', currency='USD', localSymbol='TREX  250321C00070000', tradingClass='TREX'),\n",
       " Option(conId=755153387, symbol='TREX', lastTradeDateOrContractMonth='20250321', strike=75.0, right='C', multiplier='100', exchange='SMART', currency='USD', localSymbol='TREX  250321C00075000', tradingClass='TREX'),\n",
       " Option(conId=755153514, symbol='TREX', lastTradeDateOrContractMonth='20250321', strike=80.0, right='C', multiplier='100', exchange='SMART', currency='USD', localSymbol='TREX  250321C00080000', tradingClass='TREX'),\n",
       " Option(conId=755153577, symbol='TREX', lastTradeDateOrContractMonth='20250321', strike=85.0, right='C', multiplier='100', exchange='SMART', currency='USD', localSymbol='TREX  250321C00085000', tradingClass='TREX'),\n",
       " Option(conId=755153627, symbol='TREX', lastTradeDateOrContractMonth='20250321', strike=90.0, right='C', multiplier='100', exchange='SMART', currency='USD', localSymbol='TREX  250321C00090000', tradingClass='TREX'),\n",
       " Option(conId=755153701, symbol='TREX', lastTradeDateOrContractMonth='20250321', strike=95.0, right='C', multiplier='100', exchange='SMART', currency='USD', localSymbol='TREX  250321C00095000', tradingClass='TREX'),\n",
       " Option(conId=755152534, symbol='TREX', lastTradeDateOrContractMonth='20250321', strike=100.0, right='C', multiplier='100', exchange='SMART', currency='USD', localSymbol='TREX  250321C00100000', tradingClass='TREX'),\n",
       " Option(conId=723283812, symbol='TREX', lastTradeDateOrContractMonth='20250417', strike=45.0, right='C', multiplier='100', exchange='SMART', currency='USD', localSymbol='TREX  250417C00045000', tradingClass='TREX'),\n",
       " Option(conId=723283885, symbol='TREX', lastTradeDateOrContractMonth='20250417', strike=50.0, right='C', multiplier='100', exchange='SMART', currency='USD', localSymbol='TREX  250417C00050000', tradingClass='TREX'),\n",
       " Option(conId=723283954, symbol='TREX', lastTradeDateOrContractMonth='20250417', strike=55.0, right='C', multiplier='100', exchange='SMART', currency='USD', localSymbol='TREX  250417C00055000', tradingClass='TREX'),\n",
       " Option(conId=723284014, symbol='TREX', lastTradeDateOrContractMonth='20250417', strike=60.0, right='C', multiplier='100', exchange='SMART', currency='USD', localSymbol='TREX  250417C00060000', tradingClass='TREX'),\n",
       " Option(conId=723284074, symbol='TREX', lastTradeDateOrContractMonth='20250417', strike=65.0, right='C', multiplier='100', exchange='SMART', currency='USD', localSymbol='TREX  250417C00065000', tradingClass='TREX'),\n",
       " Option(conId=723284146, symbol='TREX', lastTradeDateOrContractMonth='20250417', strike=70.0, right='C', multiplier='100', exchange='SMART', currency='USD', localSymbol='TREX  250417C00070000', tradingClass='TREX'),\n",
       " Option(conId=723284231, symbol='TREX', lastTradeDateOrContractMonth='20250417', strike=75.0, right='C', multiplier='100', exchange='SMART', currency='USD', localSymbol='TREX  250417C00075000', tradingClass='TREX'),\n",
       " Option(conId=723284300, symbol='TREX', lastTradeDateOrContractMonth='20250417', strike=80.0, right='C', multiplier='100', exchange='SMART', currency='USD', localSymbol='TREX  250417C00080000', tradingClass='TREX'),\n",
       " Option(conId=723284379, symbol='TREX', lastTradeDateOrContractMonth='20250417', strike=85.0, right='C', multiplier='100', exchange='SMART', currency='USD', localSymbol='TREX  250417C00085000', tradingClass='TREX'),\n",
       " Option(conId=723284447, symbol='TREX', lastTradeDateOrContractMonth='20250417', strike=90.0, right='C', multiplier='100', exchange='SMART', currency='USD', localSymbol='TREX  250417C00090000', tradingClass='TREX'),\n",
       " Option(conId=724535612, symbol='TREX', lastTradeDateOrContractMonth='20250417', strike=95.0, right='C', multiplier='100', exchange='SMART', currency='USD', localSymbol='TREX  250417C00095000', tradingClass='TREX'),\n",
       " Option(conId=730765996, symbol='TREX', lastTradeDateOrContractMonth='20250417', strike=100.0, right='C', multiplier='100', exchange='SMART', currency='USD', localSymbol='TREX  250417C00100000', tradingClass='TREX')]"
      ]
     },
     "execution_count": 65,
     "metadata": {},
     "output_type": "execute_result"
    }
   ],
   "source": [
    "[c for c in contracts if c.exchange == 'SMART' ]"
   ]
  },
  {
   "cell_type": "markdown",
   "metadata": {},
   "source": [
    "### Get Options Chain for a Specific Symbol"
   ]
  },
  {
   "cell_type": "code",
   "execution_count": 67,
   "metadata": {},
   "outputs": [],
   "source": [
    "def get_option_chain(symbol):\n",
    "    underlying_stock = Stock(symbol=symbol,exchange='SMART',currency='USD')\n",
    "    ib.qualifyContracts(underlying_stock)\n",
    "    chains = ib.reqSecDefOptParams(underlyingSymbol=underlying_stock.symbol,futFopExchange='',underlyingSecType=underlying_stock.secType,underlyingConId=underlying_stock.conId)\n",
    "    chain = [c for c in chains if c.exchange == 'SMART'][0]\n",
    "    return chain"
   ]
  },
  {
   "cell_type": "code",
   "execution_count": 68,
   "metadata": {},
   "outputs": [
    {
     "data": {
      "text/plain": [
       "OptionChain(exchange='SMART', underlyingConId='76792991', tradingClass='TSLA', multiplier='100', expirations=['20250131', '20250207', '20250214', '20250221', '20250228', '20250307', '20250314', '20250321', '20250417', '20250516', '20250620', '20250718', '20250815', '20250919', '20251121', '20251219', '20260116', '20260320', '20260618', '20261218', '20270115'], strikes=[5.0, 10.0, 15.0, 20.0, 25.0, 30.0, 35.0, 40.0, 45.0, 50.0, 55.0, 60.0, 65.0, 70.0, 75.0, 80.0, 85.0, 90.0, 95.0, 100.0, 105.0, 110.0, 115.0, 120.0, 125.0, 130.0, 135.0, 140.0, 145.0, 150.0, 155.0, 160.0, 165.0, 170.0, 175.0, 180.0, 185.0, 190.0, 195.0, 200.0, 205.0, 210.0, 215.0, 220.0, 225.0, 230.0, 235.0, 240.0, 245.0, 250.0, 255.0, 260.0, 265.0, 270.0, 275.0, 277.5, 280.0, 282.5, 285.0, 287.5, 290.0, 292.5, 295.0, 297.5, 300.0, 302.5, 305.0, 307.5, 310.0, 312.5, 315.0, 317.5, 320.0, 322.5, 325.0, 327.5, 330.0, 332.5, 335.0, 337.5, 340.0, 342.5, 345.0, 347.5, 350.0, 352.5, 355.0, 357.5, 360.0, 362.5, 365.0, 367.5, 370.0, 372.5, 375.0, 377.5, 380.0, 382.5, 385.0, 387.5, 390.0, 392.5, 395.0, 397.5, 400.0, 402.5, 405.0, 407.5, 410.0, 412.5, 415.0, 417.5, 420.0, 422.5, 425.0, 427.5, 430.0, 432.5, 435.0, 437.5, 440.0, 442.5, 445.0, 447.5, 450.0, 452.5, 455.0, 457.5, 460.0, 462.5, 465.0, 467.5, 470.0, 472.5, 475.0, 477.5, 480.0, 482.5, 485.0, 487.5, 490.0, 492.5, 495.0, 497.5, 500.0, 502.5, 505.0, 507.5, 510.0, 512.5, 515.0, 517.5, 520.0, 522.5, 525.0, 527.5, 530.0, 532.5, 535.0, 537.5, 540.0, 542.5, 545.0, 547.5, 550.0, 552.5, 555.0, 557.5, 560.0, 562.5, 565.0, 567.5, 570.0, 572.5, 575.0, 577.5, 580.0, 582.5, 585.0, 590.0, 595.0, 600.0, 605.0, 610.0, 615.0, 620.0, 625.0, 630.0, 635.0, 640.0, 645.0, 650.0, 655.0, 660.0, 665.0, 670.0, 675.0, 680.0, 685.0, 690.0, 700.0, 710.0, 720.0, 730.0, 740.0, 750.0, 760.0, 770.0, 780.0, 790.0, 800.0, 810.0, 820.0, 830.0, 840.0, 850.0, 860.0, 870.0, 880.0, 890.0, 900.0, 910.0, 920.0, 930.0, 940.0, 950.0, 960.0])"
      ]
     },
     "execution_count": 68,
     "metadata": {},
     "output_type": "execute_result"
    }
   ],
   "source": [
    "get_option_chain(\"TSLA\")"
   ]
  },
  {
   "cell_type": "markdown",
   "metadata": {},
   "source": [
    "Get Options For Specific Expiry"
   ]
  },
  {
   "cell_type": "code",
   "execution_count": 54,
   "metadata": {},
   "outputs": [
    {
     "ename": "NameError",
     "evalue": "name 'np' is not defined",
     "output_type": "error",
     "traceback": [
      "\u001b[0;31m---------------------------------------------------------------------------\u001b[0m",
      "\u001b[0;31mNameError\u001b[0m                                 Traceback (most recent call last)",
      "Cell \u001b[0;32mIn[54], line 1\u001b[0m\n\u001b[0;32m----> 1\u001b[0m \u001b[38;5;28;01mdef\u001b[39;00m\u001b[38;5;250m \u001b[39m\u001b[38;5;21mget_option_chain_for_expiry\u001b[39m(symbol,expiry,strike\u001b[38;5;241m=\u001b[39m\u001b[38;5;241m0\u001b[39m,max_strike\u001b[38;5;241m=\u001b[39m\u001b[43mnp\u001b[49m\u001b[38;5;241m.\u001b[39minf):\n\u001b[1;32m      2\u001b[0m     option_chain \u001b[38;5;241m=\u001b[39m contracts\n\u001b[1;32m      3\u001b[0m     options\u001b[38;5;241m=\u001b[39m[]\n",
      "\u001b[0;31mNameError\u001b[0m: name 'np' is not defined"
     ]
    }
   ],
   "source": [
    "def get_option_chain_for_expiry(symbol,expiry,strike=0,max_strike=np.inf):\n",
    "    option_chain = contracts\n",
    "    options=[]\n",
    "    for strike in option_chain.strikes:\n",
    "        if strike<=max_strike and strike >= min_strike:\n",
    "            for right in ['C','P']:\n",
    "                option = Option(symbol=symbol,lastTradeDateOrContractMonth=expiry,strike=strike,right=right,exchange='SMART',currency='USD')\n",
    "                options.append(option)\n",
    "    valid_options=ib.qualifyContracts(*options)\n",
    "    return valid_optionslid"
   ]
  },
  {
   "cell_type": "code",
   "execution_count": null,
   "metadata": {},
   "outputs": [
    {
     "ename": "NameError",
     "evalue": "name 'get_option_chain_for_expiry' is not defined",
     "output_type": "error",
     "traceback": [
      "\u001b[0;31m---------------------------------------------------------------------------\u001b[0m",
      "\u001b[0;31mNameError\u001b[0m                                 Traceback (most recent call last)",
      "Cell \u001b[0;32mIn[53], line 1\u001b[0m\n\u001b[0;32m----> 1\u001b[0m valid_options\u001b[38;5;241m=\u001b[39m\u001b[43mget_option_chain_for_expiry\u001b[49m(\u001b[38;5;124m\"\u001b[39m\u001b[38;5;124mTSLA\u001b[39m\u001b[38;5;124m\"\u001b[39m,\u001b[38;5;124m\"\u001b[39m\u001b[38;5;124m20250221\u001b[39m\u001b[38;5;124m\"\u001b[39m,min_strike\u001b[38;5;241m=\u001b[39m\u001b[38;5;241m400\u001b[39m,max_strike\u001b[38;5;241m=\u001b[39m\u001b[38;5;241m415\u001b[39m)\n",
      "\u001b[0;31mNameError\u001b[0m: name 'get_option_chain_for_expiry' is not defined"
     ]
    }
   ],
   "source": [
    "valid_options=get_option_chain_for_expiry(\"TSLA\",\"20250221\",min_strike=400,max_strike=415)"
   ]
  },
  {
   "cell_type": "markdown",
   "metadata": {},
   "source": [
    "## first contract"
   ]
  },
  {
   "cell_type": "code",
   "execution_count": 21,
   "metadata": {},
   "outputs": [
    {
     "data": {
      "text/plain": [
       "Option(conId=749705113, symbol='TREX', lastTradeDateOrContractMonth='20250221', strike=45.0, right='P', multiplier='100', exchange='SMART', currency='USD', localSymbol='TREX  250221P00045000', tradingClass='TREX')"
      ]
     },
     "execution_count": 21,
     "metadata": {},
     "output_type": "execute_result"
    }
   ],
   "source": [
    "contracts[0]"
   ]
  },
  {
   "cell_type": "markdown",
   "metadata": {},
   "source": [
    "# Now to get the market data for all options in one go:"
   ]
  },
  {
   "cell_type": "code",
   "execution_count": 22,
   "metadata": {},
   "outputs": [],
   "source": [
    "tickers = ib.reqTickers(*contracts)\n"
   ]
  },
  {
   "cell_type": "markdown",
   "metadata": {},
   "source": []
  },
  {
   "cell_type": "code",
   "execution_count": 23,
   "metadata": {},
   "outputs": [
    {
     "data": {
      "text/plain": [
       "Ticker(contract=Option(conId=749705113, symbol='TREX', lastTradeDateOrContractMonth='20250221', strike=45.0, right='P', multiplier='100', exchange='SMART', currency='USD', localSymbol='TREX  250221P00045000', tradingClass='TREX'), time=datetime.datetime(2025, 1, 30, 17, 2, 0, 196607, tzinfo=datetime.timezone.utc), marketDataType=3, minTick=0.01, bid=-1.0, bidSize=0.0, ask=0.15, askSize=12.0, last=-1.0, lastSize=0.0, volume=0.0, close=0.0, bidGreeks=OptionComputation(tickAttrib=0, impliedVol=None, delta=None, optPrice=None, pvDividend=0.0, gamma=None, vega=-2.0, theta=-2.0, undPrice=73.45999908447266), askGreeks=OptionComputation(tickAttrib=0, impliedVol=1.0503599411093978, delta=-0.020831308663507422, optPrice=0.15000000596046448, pvDividend=0.0, gamma=0.0026358270411721177, vega=0.00895254194574685, theta=-0.02129896417224575, undPrice=73.45999908447266), lastGreeks=OptionComputation(tickAttrib=0, impliedVol=None, delta=None, optPrice=None, pvDividend=0.0, gamma=None, vega=-2.0, theta=-2.0, undPrice=73.45999908447266), modelGreeks=OptionComputation(tickAttrib=0, impliedVol=0.6473699488914876, delta=-0.0006949255209293228, optPrice=0.002320709051816297, pvDividend=0.0, gamma=0.00020448993512269396, vega=0.00040550046562549437, theta=-0.0005928658154440226, undPrice=73.52241516113281), bboExchange='c70003', snapshotPermissions=1)"
      ]
     },
     "execution_count": 23,
     "metadata": {},
     "output_type": "execute_result"
    }
   ],
   "source": [
    "tickers[0]"
   ]
  },
  {
   "cell_type": "markdown",
   "metadata": {},
   "source": []
  },
  {
   "cell_type": "code",
   "execution_count": 26,
   "metadata": {},
   "outputs": [
    {
     "data": {
      "text/plain": [
       "<bound method Ticker.midpoint of Ticker(contract=Option(conId=749705113, symbol='TREX', lastTradeDateOrContractMonth='20250221', strike=45.0, right='P', multiplier='100', exchange='SMART', currency='USD', localSymbol='TREX  250221P00045000', tradingClass='TREX'), time=datetime.datetime(2025, 1, 30, 17, 2, 0, 196607, tzinfo=datetime.timezone.utc), marketDataType=3, minTick=0.01, bid=-1.0, bidSize=0.0, ask=0.15, askSize=12.0, last=-1.0, lastSize=0.0, volume=0.0, close=0.0, bidGreeks=OptionComputation(tickAttrib=0, impliedVol=None, delta=None, optPrice=None, pvDividend=0.0, gamma=None, vega=-2.0, theta=-2.0, undPrice=73.45999908447266), askGreeks=OptionComputation(tickAttrib=0, impliedVol=1.0503599411093978, delta=-0.020831308663507422, optPrice=0.15000000596046448, pvDividend=0.0, gamma=0.0026358270411721177, vega=0.00895254194574685, theta=-0.02129896417224575, undPrice=73.45999908447266), lastGreeks=OptionComputation(tickAttrib=0, impliedVol=None, delta=None, optPrice=None, pvDividend=0.0, gamma=None, vega=-2.0, theta=-2.0, undPrice=73.45999908447266), modelGreeks=OptionComputation(tickAttrib=0, impliedVol=0.6473699488914876, delta=-0.0006949255209293228, optPrice=0.002320709051816297, pvDividend=0.0, gamma=0.00020448993512269396, vega=0.00040550046562549437, theta=-0.0005928658154440226, undPrice=73.52241516113281), bboExchange='c70003', snapshotPermissions=1)>"
      ]
     },
     "execution_count": 26,
     "metadata": {},
     "output_type": "execute_result"
    }
   ],
   "source": [
    "ticker = tickers[0]\n",
    "ticker.midpoint\n",
    "\n",
    "\n"
   ]
  },
  {
   "cell_type": "code",
   "execution_count": 27,
   "metadata": {},
   "outputs": [
    {
     "data": {
      "text/plain": [
       "0.15"
      ]
     },
     "execution_count": 27,
     "metadata": {},
     "output_type": "execute_result"
    }
   ],
   "source": [
    "ticker.ask"
   ]
  },
  {
   "cell_type": "code",
   "execution_count": 28,
   "metadata": {},
   "outputs": [
    {
     "data": {
      "text/plain": [
       "-1.0"
      ]
     },
     "execution_count": 28,
     "metadata": {},
     "output_type": "execute_result"
    }
   ],
   "source": [
    "ticker.bid"
   ]
  },
  {
   "cell_type": "code",
   "execution_count": 29,
   "metadata": {},
   "outputs": [
    {
     "data": {
      "text/plain": [
       "<bound method Ticker.marketPrice of Ticker(contract=Option(conId=749705113, symbol='TREX', lastTradeDateOrContractMonth='20250221', strike=45.0, right='P', multiplier='100', exchange='SMART', currency='USD', localSymbol='TREX  250221P00045000', tradingClass='TREX'), time=datetime.datetime(2025, 1, 30, 17, 2, 0, 196607, tzinfo=datetime.timezone.utc), marketDataType=3, minTick=0.01, bid=-1.0, bidSize=0.0, ask=0.15, askSize=12.0, last=-1.0, lastSize=0.0, volume=0.0, close=0.0, bidGreeks=OptionComputation(tickAttrib=0, impliedVol=None, delta=None, optPrice=None, pvDividend=0.0, gamma=None, vega=-2.0, theta=-2.0, undPrice=73.45999908447266), askGreeks=OptionComputation(tickAttrib=0, impliedVol=1.0503599411093978, delta=-0.020831308663507422, optPrice=0.15000000596046448, pvDividend=0.0, gamma=0.0026358270411721177, vega=0.00895254194574685, theta=-0.02129896417224575, undPrice=73.45999908447266), lastGreeks=OptionComputation(tickAttrib=0, impliedVol=None, delta=None, optPrice=None, pvDividend=0.0, gamma=None, vega=-2.0, theta=-2.0, undPrice=73.45999908447266), modelGreeks=OptionComputation(tickAttrib=0, impliedVol=0.6473699488914876, delta=-0.0006949255209293228, optPrice=0.002320709051816297, pvDividend=0.0, gamma=0.00020448993512269396, vega=0.00040550046562549437, theta=-0.0005928658154440226, undPrice=73.52241516113281), bboExchange='c70003', snapshotPermissions=1)>"
      ]
     },
     "execution_count": 29,
     "metadata": {},
     "output_type": "execute_result"
    }
   ],
   "source": [
    "ticker.marketPrice"
   ]
  },
  {
   "cell_type": "markdown",
   "metadata": {},
   "source": [
    "get strike price"
   ]
  },
  {
   "cell_type": "code",
   "execution_count": 48,
   "metadata": {},
   "outputs": [
    {
     "data": {
      "text/plain": [
       "45.0"
      ]
     },
     "execution_count": 48,
     "metadata": {},
     "output_type": "execute_result"
    }
   ],
   "source": [
    "#print(f\"{ticker.contract.strike}\")\n",
    "ticker.contract.strike\n",
    "#ticker.impliedVolatility\n",
    "# deltaNeutralContract.delta"
   ]
  },
  {
   "cell_type": "code",
   "execution_count": 31,
   "metadata": {},
   "outputs": [
    {
     "data": {
      "text/plain": [
       "ib_insync.ticker.Ticker"
      ]
     },
     "execution_count": 31,
     "metadata": {},
     "output_type": "execute_result"
    }
   ],
   "source": [
    "type(ticker)"
   ]
  },
  {
   "cell_type": "code",
   "execution_count": 12,
   "metadata": {},
   "outputs": [],
   "source": [
    "ib.disconnect()"
   ]
  }
 ],
 "metadata": {
  "kernelspec": {
   "display_name": ".venv",
   "language": "python",
   "name": "python3"
  },
  "language_info": {
   "codemirror_mode": {
    "name": "ipython",
    "version": 3
   },
   "file_extension": ".py",
   "mimetype": "text/x-python",
   "name": "python",
   "nbconvert_exporter": "python",
   "pygments_lexer": "ipython3",
   "version": "3.11.2"
  }
 },
 "nbformat": 4,
 "nbformat_minor": 2
}
