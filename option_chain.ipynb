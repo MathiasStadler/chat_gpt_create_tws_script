{
 "cells": [
  {
   "cell_type": "markdown",
   "metadata": {},
   "source": [
    "[FROM HERE](https://github.com/erdewit/ib_insync/blob/master/notebooks/option_chain.ipynb)"
   ]
  },
  {
   "cell_type": "code",
   "execution_count": 1,
   "metadata": {},
   "outputs": [],
   "source": [
    "import plotly.express as px\n",
    "import pandas as pd\n",
    "import numpy as np"
   ]
  },
  {
   "cell_type": "code",
   "execution_count": 2,
   "metadata": {},
   "outputs": [],
   "source": [
    "from ib_insync import *\n",
    "\n",
    "util.startLoop()\n",
    "\n",
    "ib = IB()\n",
    "# Paper\n",
    "ib.connect('127.0.0.1', 7496, clientId=12)\n",
    "\n",
    "# delay data\n",
    "ib.reqMarketDataType(4)\n",
    "\n",
    "# real data\n",
    "# ib.reqMarketDataType(1)"
   ]
  },
  {
   "cell_type": "markdown",
   "metadata": {},
   "source": [
    "Suppose we want to find the options on the SPX, with the following conditions:\n",
    "\n",
    "Use the next three monthly expiries;\n",
    "Use strike prices within +- 20 dollar of the current SPX value;\n",
    "Use strike prices that are a multitude of 5 dollar."
   ]
  },
  {
   "cell_type": "markdown",
   "metadata": {},
   "source": [
    "To avoid issues with market data permissions, we'll use delayed data:"
   ]
  },
  {
   "cell_type": "code",
   "execution_count": 3,
   "metadata": {},
   "outputs": [],
   "source": [
    "# double\n",
    "# ib.reqMarketDataType(4)"
   ]
  },
  {
   "cell_type": "code",
   "execution_count": 3,
   "metadata": {},
   "outputs": [
    {
     "data": {
      "text/plain": [
       "Stock(symbol='TREX', exchange='SMART', currency='USD')"
      ]
     },
     "execution_count": 3,
     "metadata": {},
     "output_type": "execute_result"
    }
   ],
   "source": [
    "stock_contract = Stock('TREX', 'SMART', 'USD')\n",
    "stock_contract"
   ]
  },
  {
   "cell_type": "code",
   "execution_count": 4,
   "metadata": {},
   "outputs": [
    {
     "data": {
      "text/plain": [
       "Stock(conId=6608603, symbol='TREX', exchange='SMART', primaryExchange='NYSE', currency='USD', localSymbol='TREX', tradingClass='TREX')"
      ]
     },
     "execution_count": 4,
     "metadata": {},
     "output_type": "execute_result"
    }
   ],
   "source": [
    "# Qualify the contract\n",
    "qualified_contracts = ib.qualifyContracts(stock_contract)\n",
    "stock_contract"
   ]
  },
  {
   "cell_type": "markdown",
   "metadata": {},
   "source": [
    "qualified contracts - req market data - https://algotrading101.com/learn/ib_insync-interactive-brokers-api-guide/"
   ]
  },
  {
   "cell_type": "code",
   "execution_count": 5,
   "metadata": {},
   "outputs": [],
   "source": [
    "if not qualified_contracts:\n",
    "    print(\"No qualified contracts found.\")\n",
    "else:\n",
    "    stock_contract = qualified_contracts[0]\n",
    "\n",
    "    # Request market data\n",
    "    data = ib.reqMktData(stock_contract, '', False, False)\n",
    "    "
   ]
  },
  {
   "cell_type": "code",
   "execution_count": 6,
   "metadata": {},
   "outputs": [
    {
     "data": {
      "text/plain": [
       "True"
      ]
     },
     "execution_count": 6,
     "metadata": {},
     "output_type": "execute_result"
    }
   ],
   "source": [
    "data = ib.reqMktData(stock_contract, '', False, False)\n",
    "ib.sleep(5)"
   ]
  },
  {
   "cell_type": "code",
   "execution_count": 8,
   "metadata": {},
   "outputs": [],
   "source": [
    "stockValue = data.marketPrice()\n"
   ]
  },
  {
   "cell_type": "code",
   "execution_count": 9,
   "metadata": {},
   "outputs": [
    {
     "data": {
      "text/plain": [
       "73.48"
      ]
     },
     "execution_count": 9,
     "metadata": {},
     "output_type": "execute_result"
    }
   ],
   "source": [
    "stockValue"
   ]
  },
  {
   "cell_type": "markdown",
   "metadata": {},
   "source": []
  },
  {
   "cell_type": "markdown",
   "metadata": {},
   "source": [
    "chain"
   ]
  },
  {
   "cell_type": "code",
   "execution_count": 10,
   "metadata": {},
   "outputs": [],
   "source": [
    "chains = ib.reqSecDefOptParams(stock_contract.symbol, '', stock_contract.secType, stock_contract.conId)\n"
   ]
  },
  {
   "cell_type": "markdown",
   "metadata": {},
   "source": [
    "display chains"
   ]
  },
  {
   "cell_type": "code",
   "execution_count": 11,
   "metadata": {},
   "outputs": [
    {
     "data": {
      "text/html": [
       "<div>\n",
       "<style scoped>\n",
       "    .dataframe tbody tr th:only-of-type {\n",
       "        vertical-align: middle;\n",
       "    }\n",
       "\n",
       "    .dataframe tbody tr th {\n",
       "        vertical-align: top;\n",
       "    }\n",
       "\n",
       "    .dataframe thead th {\n",
       "        text-align: right;\n",
       "    }\n",
       "</style>\n",
       "<table border=\"1\" class=\"dataframe\">\n",
       "  <thead>\n",
       "    <tr style=\"text-align: right;\">\n",
       "      <th></th>\n",
       "      <th>exchange</th>\n",
       "      <th>underlyingConId</th>\n",
       "      <th>tradingClass</th>\n",
       "      <th>multiplier</th>\n",
       "      <th>expirations</th>\n",
       "      <th>strikes</th>\n",
       "    </tr>\n",
       "  </thead>\n",
       "  <tbody>\n",
       "    <tr>\n",
       "      <th>0</th>\n",
       "      <td>EDGX</td>\n",
       "      <td>6608603</td>\n",
       "      <td>TREX</td>\n",
       "      <td>100</td>\n",
       "      <td>[20250221, 20250321, 20250417, 20250718]</td>\n",
       "      <td>[30.0, 35.0, 40.0, 45.0, 47.5, 50.0, 55.0, 57....</td>\n",
       "    </tr>\n",
       "    <tr>\n",
       "      <th>1</th>\n",
       "      <td>MIAX</td>\n",
       "      <td>6608603</td>\n",
       "      <td>TREX</td>\n",
       "      <td>100</td>\n",
       "      <td>[20250221, 20250321, 20250417, 20250718]</td>\n",
       "      <td>[30.0, 35.0, 40.0, 45.0, 47.5, 50.0, 55.0, 57....</td>\n",
       "    </tr>\n",
       "    <tr>\n",
       "      <th>2</th>\n",
       "      <td>SMART</td>\n",
       "      <td>6608603</td>\n",
       "      <td>TREX</td>\n",
       "      <td>100</td>\n",
       "      <td>[20250221, 20250321, 20250417, 20250718]</td>\n",
       "      <td>[30.0, 35.0, 40.0, 45.0, 47.5, 50.0, 55.0, 57....</td>\n",
       "    </tr>\n",
       "    <tr>\n",
       "      <th>3</th>\n",
       "      <td>BOX</td>\n",
       "      <td>6608603</td>\n",
       "      <td>TREX</td>\n",
       "      <td>100</td>\n",
       "      <td>[20250221, 20250321, 20250417, 20250718]</td>\n",
       "      <td>[30.0, 35.0, 40.0, 45.0, 47.5, 50.0, 55.0, 57....</td>\n",
       "    </tr>\n",
       "    <tr>\n",
       "      <th>4</th>\n",
       "      <td>CBOE2</td>\n",
       "      <td>6608603</td>\n",
       "      <td>TREX</td>\n",
       "      <td>100</td>\n",
       "      <td>[20250221, 20250321, 20250417, 20250718]</td>\n",
       "      <td>[30.0, 35.0, 40.0, 45.0, 47.5, 50.0, 55.0, 57....</td>\n",
       "    </tr>\n",
       "    <tr>\n",
       "      <th>5</th>\n",
       "      <td>SAPPHIRE</td>\n",
       "      <td>6608603</td>\n",
       "      <td>TREX</td>\n",
       "      <td>100</td>\n",
       "      <td>[20250221, 20250321, 20250417, 20250718]</td>\n",
       "      <td>[30.0, 35.0, 40.0, 45.0, 47.5, 50.0, 55.0, 57....</td>\n",
       "    </tr>\n",
       "    <tr>\n",
       "      <th>6</th>\n",
       "      <td>BATS</td>\n",
       "      <td>6608603</td>\n",
       "      <td>TREX</td>\n",
       "      <td>100</td>\n",
       "      <td>[20250221, 20250321, 20250417, 20250718]</td>\n",
       "      <td>[30.0, 35.0, 40.0, 45.0, 47.5, 50.0, 55.0, 57....</td>\n",
       "    </tr>\n",
       "    <tr>\n",
       "      <th>7</th>\n",
       "      <td>IBUSOPT</td>\n",
       "      <td>6608603</td>\n",
       "      <td>TREX</td>\n",
       "      <td>100</td>\n",
       "      <td>[20250221, 20250321, 20250417, 20250718]</td>\n",
       "      <td>[30.0, 35.0, 40.0, 45.0, 47.5, 50.0, 55.0, 57....</td>\n",
       "    </tr>\n",
       "    <tr>\n",
       "      <th>8</th>\n",
       "      <td>MEMX</td>\n",
       "      <td>6608603</td>\n",
       "      <td>TREX</td>\n",
       "      <td>100</td>\n",
       "      <td>[20250221, 20250321, 20250417, 20250718]</td>\n",
       "      <td>[30.0, 35.0, 40.0, 45.0, 47.5, 50.0, 55.0, 57....</td>\n",
       "    </tr>\n",
       "    <tr>\n",
       "      <th>9</th>\n",
       "      <td>PSE</td>\n",
       "      <td>6608603</td>\n",
       "      <td>TREX</td>\n",
       "      <td>100</td>\n",
       "      <td>[20250221, 20250321, 20250417, 20250718]</td>\n",
       "      <td>[30.0, 35.0, 40.0, 45.0, 47.5, 50.0, 55.0, 57....</td>\n",
       "    </tr>\n",
       "    <tr>\n",
       "      <th>10</th>\n",
       "      <td>EMERALD</td>\n",
       "      <td>6608603</td>\n",
       "      <td>TREX</td>\n",
       "      <td>100</td>\n",
       "      <td>[20250221, 20250321, 20250417, 20250718]</td>\n",
       "      <td>[30.0, 35.0, 40.0, 45.0, 47.5, 50.0, 55.0, 57....</td>\n",
       "    </tr>\n",
       "    <tr>\n",
       "      <th>11</th>\n",
       "      <td>NASDAQOM</td>\n",
       "      <td>6608603</td>\n",
       "      <td>TREX</td>\n",
       "      <td>100</td>\n",
       "      <td>[20250221, 20250321, 20250417, 20250718]</td>\n",
       "      <td>[30.0, 35.0, 40.0, 45.0, 47.5, 50.0, 55.0, 57....</td>\n",
       "    </tr>\n",
       "    <tr>\n",
       "      <th>12</th>\n",
       "      <td>PHLX</td>\n",
       "      <td>6608603</td>\n",
       "      <td>TREX</td>\n",
       "      <td>100</td>\n",
       "      <td>[20250221, 20250321, 20250417, 20250718]</td>\n",
       "      <td>[30.0, 35.0, 40.0, 45.0, 47.5, 50.0, 55.0, 57....</td>\n",
       "    </tr>\n",
       "    <tr>\n",
       "      <th>13</th>\n",
       "      <td>ISE</td>\n",
       "      <td>6608603</td>\n",
       "      <td>TREX</td>\n",
       "      <td>100</td>\n",
       "      <td>[20250221, 20250321, 20250417, 20250718]</td>\n",
       "      <td>[30.0, 35.0, 40.0, 45.0, 47.5, 50.0, 55.0, 57....</td>\n",
       "    </tr>\n",
       "    <tr>\n",
       "      <th>14</th>\n",
       "      <td>AMEX</td>\n",
       "      <td>6608603</td>\n",
       "      <td>TREX</td>\n",
       "      <td>100</td>\n",
       "      <td>[20250221, 20250321, 20250417, 20250718]</td>\n",
       "      <td>[30.0, 35.0, 40.0, 45.0, 47.5, 50.0, 55.0, 57....</td>\n",
       "    </tr>\n",
       "    <tr>\n",
       "      <th>15</th>\n",
       "      <td>GEMINI</td>\n",
       "      <td>6608603</td>\n",
       "      <td>TREX</td>\n",
       "      <td>100</td>\n",
       "      <td>[20250221, 20250321, 20250417, 20250718]</td>\n",
       "      <td>[30.0, 35.0, 40.0, 45.0, 47.5, 50.0, 55.0, 57....</td>\n",
       "    </tr>\n",
       "    <tr>\n",
       "      <th>16</th>\n",
       "      <td>PEARL</td>\n",
       "      <td>6608603</td>\n",
       "      <td>TREX</td>\n",
       "      <td>100</td>\n",
       "      <td>[20250221, 20250321, 20250417, 20250718]</td>\n",
       "      <td>[30.0, 35.0, 40.0, 45.0, 47.5, 50.0, 55.0, 57....</td>\n",
       "    </tr>\n",
       "    <tr>\n",
       "      <th>17</th>\n",
       "      <td>NASDAQBX</td>\n",
       "      <td>6608603</td>\n",
       "      <td>TREX</td>\n",
       "      <td>100</td>\n",
       "      <td>[20250221, 20250321, 20250417, 20250718]</td>\n",
       "      <td>[30.0, 35.0, 40.0, 45.0, 47.5, 50.0, 55.0, 57....</td>\n",
       "    </tr>\n",
       "    <tr>\n",
       "      <th>18</th>\n",
       "      <td>CBOE</td>\n",
       "      <td>6608603</td>\n",
       "      <td>TREX</td>\n",
       "      <td>100</td>\n",
       "      <td>[20250221, 20250321, 20250417, 20250718]</td>\n",
       "      <td>[30.0, 35.0, 40.0, 45.0, 47.5, 50.0, 55.0, 57....</td>\n",
       "    </tr>\n",
       "    <tr>\n",
       "      <th>19</th>\n",
       "      <td>MERCURY</td>\n",
       "      <td>6608603</td>\n",
       "      <td>TREX</td>\n",
       "      <td>100</td>\n",
       "      <td>[20250221, 20250321, 20250417, 20250718]</td>\n",
       "      <td>[30.0, 35.0, 40.0, 45.0, 47.5, 50.0, 55.0, 57....</td>\n",
       "    </tr>\n",
       "  </tbody>\n",
       "</table>\n",
       "</div>"
      ],
      "text/plain": [
       "    exchange underlyingConId tradingClass multiplier  \\\n",
       "0       EDGX         6608603         TREX        100   \n",
       "1       MIAX         6608603         TREX        100   \n",
       "2      SMART         6608603         TREX        100   \n",
       "3        BOX         6608603         TREX        100   \n",
       "4      CBOE2         6608603         TREX        100   \n",
       "5   SAPPHIRE         6608603         TREX        100   \n",
       "6       BATS         6608603         TREX        100   \n",
       "7    IBUSOPT         6608603         TREX        100   \n",
       "8       MEMX         6608603         TREX        100   \n",
       "9        PSE         6608603         TREX        100   \n",
       "10   EMERALD         6608603         TREX        100   \n",
       "11  NASDAQOM         6608603         TREX        100   \n",
       "12      PHLX         6608603         TREX        100   \n",
       "13       ISE         6608603         TREX        100   \n",
       "14      AMEX         6608603         TREX        100   \n",
       "15    GEMINI         6608603         TREX        100   \n",
       "16     PEARL         6608603         TREX        100   \n",
       "17  NASDAQBX         6608603         TREX        100   \n",
       "18      CBOE         6608603         TREX        100   \n",
       "19   MERCURY         6608603         TREX        100   \n",
       "\n",
       "                                 expirations  \\\n",
       "0   [20250221, 20250321, 20250417, 20250718]   \n",
       "1   [20250221, 20250321, 20250417, 20250718]   \n",
       "2   [20250221, 20250321, 20250417, 20250718]   \n",
       "3   [20250221, 20250321, 20250417, 20250718]   \n",
       "4   [20250221, 20250321, 20250417, 20250718]   \n",
       "5   [20250221, 20250321, 20250417, 20250718]   \n",
       "6   [20250221, 20250321, 20250417, 20250718]   \n",
       "7   [20250221, 20250321, 20250417, 20250718]   \n",
       "8   [20250221, 20250321, 20250417, 20250718]   \n",
       "9   [20250221, 20250321, 20250417, 20250718]   \n",
       "10  [20250221, 20250321, 20250417, 20250718]   \n",
       "11  [20250221, 20250321, 20250417, 20250718]   \n",
       "12  [20250221, 20250321, 20250417, 20250718]   \n",
       "13  [20250221, 20250321, 20250417, 20250718]   \n",
       "14  [20250221, 20250321, 20250417, 20250718]   \n",
       "15  [20250221, 20250321, 20250417, 20250718]   \n",
       "16  [20250221, 20250321, 20250417, 20250718]   \n",
       "17  [20250221, 20250321, 20250417, 20250718]   \n",
       "18  [20250221, 20250321, 20250417, 20250718]   \n",
       "19  [20250221, 20250321, 20250417, 20250718]   \n",
       "\n",
       "                                              strikes  \n",
       "0   [30.0, 35.0, 40.0, 45.0, 47.5, 50.0, 55.0, 57....  \n",
       "1   [30.0, 35.0, 40.0, 45.0, 47.5, 50.0, 55.0, 57....  \n",
       "2   [30.0, 35.0, 40.0, 45.0, 47.5, 50.0, 55.0, 57....  \n",
       "3   [30.0, 35.0, 40.0, 45.0, 47.5, 50.0, 55.0, 57....  \n",
       "4   [30.0, 35.0, 40.0, 45.0, 47.5, 50.0, 55.0, 57....  \n",
       "5   [30.0, 35.0, 40.0, 45.0, 47.5, 50.0, 55.0, 57....  \n",
       "6   [30.0, 35.0, 40.0, 45.0, 47.5, 50.0, 55.0, 57....  \n",
       "7   [30.0, 35.0, 40.0, 45.0, 47.5, 50.0, 55.0, 57....  \n",
       "8   [30.0, 35.0, 40.0, 45.0, 47.5, 50.0, 55.0, 57....  \n",
       "9   [30.0, 35.0, 40.0, 45.0, 47.5, 50.0, 55.0, 57....  \n",
       "10  [30.0, 35.0, 40.0, 45.0, 47.5, 50.0, 55.0, 57....  \n",
       "11  [30.0, 35.0, 40.0, 45.0, 47.5, 50.0, 55.0, 57....  \n",
       "12  [30.0, 35.0, 40.0, 45.0, 47.5, 50.0, 55.0, 57....  \n",
       "13  [30.0, 35.0, 40.0, 45.0, 47.5, 50.0, 55.0, 57....  \n",
       "14  [30.0, 35.0, 40.0, 45.0, 47.5, 50.0, 55.0, 57....  \n",
       "15  [30.0, 35.0, 40.0, 45.0, 47.5, 50.0, 55.0, 57....  \n",
       "16  [30.0, 35.0, 40.0, 45.0, 47.5, 50.0, 55.0, 57....  \n",
       "17  [30.0, 35.0, 40.0, 45.0, 47.5, 50.0, 55.0, 57....  \n",
       "18  [30.0, 35.0, 40.0, 45.0, 47.5, 50.0, 55.0, 57....  \n",
       "19  [30.0, 35.0, 40.0, 45.0, 47.5, 50.0, 55.0, 57....  "
      ]
     },
     "execution_count": 11,
     "metadata": {},
     "output_type": "execute_result"
    }
   ],
   "source": [
    "util.df(chains)"
   ]
  },
  {
   "cell_type": "markdown",
   "metadata": {},
   "source": [
    "get chain SMART - tradingClass TREX"
   ]
  },
  {
   "cell_type": "code",
   "execution_count": 12,
   "metadata": {},
   "outputs": [],
   "source": [
    "chain = next(c for c in chains if c.tradingClass == 'TREX' and c.exchange == 'SMART')\n"
   ]
  },
  {
   "cell_type": "code",
   "execution_count": 13,
   "metadata": {},
   "outputs": [
    {
     "data": {
      "text/plain": [
       "OptionChain(exchange='SMART', underlyingConId='6608603', tradingClass='TREX', multiplier='100', expirations=['20250221', '20250321', '20250417', '20250718'], strikes=[30.0, 35.0, 40.0, 45.0, 47.5, 50.0, 55.0, 57.5, 60.0, 62.5, 65.0, 67.5, 70.0, 72.5, 75.0, 77.5, 80.0, 82.5, 85.0, 90.0, 95.0, 100.0, 105.0, 110.0, 115.0])"
      ]
     },
     "execution_count": 13,
     "metadata": {},
     "output_type": "execute_result"
    }
   ],
   "source": [
    "chain"
   ]
  },
  {
   "cell_type": "markdown",
   "metadata": {},
   "source": [
    "get strikes"
   ]
  },
  {
   "cell_type": "code",
   "execution_count": 14,
   "metadata": {},
   "outputs": [
    {
     "data": {
      "text/plain": [
       "[30.0,\n",
       " 35.0,\n",
       " 40.0,\n",
       " 45.0,\n",
       " 47.5,\n",
       " 50.0,\n",
       " 55.0,\n",
       " 57.5,\n",
       " 60.0,\n",
       " 62.5,\n",
       " 65.0,\n",
       " 67.5,\n",
       " 70.0,\n",
       " 72.5,\n",
       " 75.0,\n",
       " 77.5,\n",
       " 80.0,\n",
       " 82.5,\n",
       " 85.0,\n",
       " 90.0,\n",
       " 95.0,\n",
       " 100.0,\n",
       " 105.0,\n",
       " 110.0,\n",
       " 115.0]"
      ]
     },
     "execution_count": 14,
     "metadata": {},
     "output_type": "execute_result"
    }
   ],
   "source": [
    "chain.strikes"
   ]
  },
  {
   "cell_type": "markdown",
   "metadata": {},
   "source": [
    "## chain.expirations"
   ]
  },
  {
   "cell_type": "code",
   "execution_count": 15,
   "metadata": {},
   "outputs": [
    {
     "data": {
      "text/plain": [
       "['20250221', '20250321', '20250417', '20250718']"
      ]
     },
     "execution_count": 15,
     "metadata": {},
     "output_type": "execute_result"
    }
   ],
   "source": [
    "chain.expirations"
   ]
  },
  {
   "cell_type": "code",
   "execution_count": 16,
   "metadata": {},
   "outputs": [],
   "source": [
    "strikes = [strike for strike in chain.strikes\n",
    "        if strike % 5 == 0\n",
    "        and stockValue - 10 < strike < stockValue + 10]"
   ]
  },
  {
   "cell_type": "markdown",
   "metadata": {},
   "source": [
    "# print strikes"
   ]
  },
  {
   "cell_type": "code",
   "execution_count": 17,
   "metadata": {},
   "outputs": [
    {
     "data": {
      "text/plain": [
       "[65.0, 70.0, 75.0, 80.0]"
      ]
     },
     "execution_count": 17,
     "metadata": {},
     "output_type": "execute_result"
    }
   ],
   "source": [
    "strikes"
   ]
  },
  {
   "cell_type": "markdown",
   "metadata": {},
   "source": [
    "get expirations from chain"
   ]
  },
  {
   "cell_type": "code",
   "execution_count": 18,
   "metadata": {},
   "outputs": [],
   "source": [
    "expirations = sorted(exp for exp in chain.expirations)[:1] # number of expirations"
   ]
  },
  {
   "cell_type": "markdown",
   "metadata": {},
   "source": [
    "# print expirations"
   ]
  },
  {
   "cell_type": "code",
   "execution_count": 19,
   "metadata": {},
   "outputs": [
    {
     "data": {
      "text/plain": [
       "['20250221']"
      ]
     },
     "execution_count": 19,
     "metadata": {},
     "output_type": "execute_result"
    }
   ],
   "source": [
    "expirations"
   ]
  },
  {
   "cell_type": "markdown",
   "metadata": {},
   "source": [
    "# get contract"
   ]
  },
  {
   "cell_type": "code",
   "execution_count": 20,
   "metadata": {},
   "outputs": [
    {
     "data": {
      "text/plain": [
       "8"
      ]
     },
     "execution_count": 20,
     "metadata": {},
     "output_type": "execute_result"
    }
   ],
   "source": [
    "rights = ['P', 'C']\n",
    "\n",
    "contracts = [Option('TREX', expiration, strike, right, 'SMART', tradingClass='TREX')\n",
    "        for right in rights\n",
    "        for expiration in expirations\n",
    "        for strike in strikes]\n",
    "\n",
    "contracts = ib.qualifyContracts(*contracts)\n",
    "len(contracts)"
   ]
  },
  {
   "cell_type": "code",
   "execution_count": 21,
   "metadata": {},
   "outputs": [
    {
     "data": {
      "text/plain": [
       "[Option(conId=749705396, symbol='TREX', lastTradeDateOrContractMonth='20250221', strike=65.0, right='P', multiplier='100', exchange='SMART', currency='USD', localSymbol='TREX  250221P00065000', tradingClass='TREX'),\n",
       " Option(conId=749705528, symbol='TREX', lastTradeDateOrContractMonth='20250221', strike=70.0, right='P', multiplier='100', exchange='SMART', currency='USD', localSymbol='TREX  250221P00070000', tradingClass='TREX'),\n",
       " Option(conId=749705671, symbol='TREX', lastTradeDateOrContractMonth='20250221', strike=75.0, right='P', multiplier='100', exchange='SMART', currency='USD', localSymbol='TREX  250221P00075000', tradingClass='TREX'),\n",
       " Option(conId=749705801, symbol='TREX', lastTradeDateOrContractMonth='20250221', strike=80.0, right='P', multiplier='100', exchange='SMART', currency='USD', localSymbol='TREX  250221P00080000', tradingClass='TREX'),\n",
       " Option(conId=749703974, symbol='TREX', lastTradeDateOrContractMonth='20250221', strike=65.0, right='C', multiplier='100', exchange='SMART', currency='USD', localSymbol='TREX  250221C00065000', tradingClass='TREX'),\n",
       " Option(conId=749704117, symbol='TREX', lastTradeDateOrContractMonth='20250221', strike=70.0, right='C', multiplier='100', exchange='SMART', currency='USD', localSymbol='TREX  250221C00070000', tradingClass='TREX'),\n",
       " Option(conId=749704281, symbol='TREX', lastTradeDateOrContractMonth='20250221', strike=75.0, right='C', multiplier='100', exchange='SMART', currency='USD', localSymbol='TREX  250221C00075000', tradingClass='TREX'),\n",
       " Option(conId=749704411, symbol='TREX', lastTradeDateOrContractMonth='20250221', strike=80.0, right='C', multiplier='100', exchange='SMART', currency='USD', localSymbol='TREX  250221C00080000', tradingClass='TREX')]"
      ]
     },
     "execution_count": 21,
     "metadata": {},
     "output_type": "execute_result"
    }
   ],
   "source": [
    "[c for c in contracts if c.exchange == 'SMART' ]"
   ]
  },
  {
   "cell_type": "markdown",
   "metadata": {},
   "source": [
    "### Get Options Chain for a Specific Symbol"
   ]
  },
  {
   "cell_type": "code",
   "execution_count": 22,
   "metadata": {},
   "outputs": [],
   "source": [
    "def get_option_chain(symbol):\n",
    "    underlying_stock = Stock(symbol=symbol,exchange='SMART',currency='USD')\n",
    "    ib.qualifyContracts(underlying_stock)\n",
    "    chains = ib.reqSecDefOptParams(underlyingSymbol=underlying_stock.symbol,futFopExchange='',underlyingSecType=underlying_stock.secType,underlyingConId=underlying_stock.conId)\n",
    "    chain = [c for c in chains if c.exchange == 'SMART'][0]\n",
    "    return chain"
   ]
  },
  {
   "cell_type": "code",
   "execution_count": 23,
   "metadata": {},
   "outputs": [
    {
     "data": {
      "text/plain": [
       "OptionChain(exchange='SMART', underlyingConId='6608603', tradingClass='TREX', multiplier='100', expirations=['20250221', '20250321', '20250417', '20250718'], strikes=[30.0, 35.0, 40.0, 45.0, 47.5, 50.0, 55.0, 57.5, 60.0, 62.5, 65.0, 67.5, 70.0, 72.5, 75.0, 77.5, 80.0, 82.5, 85.0, 90.0, 95.0, 100.0, 105.0, 110.0, 115.0])"
      ]
     },
     "execution_count": 23,
     "metadata": {},
     "output_type": "execute_result"
    }
   ],
   "source": [
    "# get_option_chain(\"TSLA\")\n",
    "get_option_chain(\"TREX\")"
   ]
  },
  {
   "cell_type": "markdown",
   "metadata": {},
   "source": [
    "Get Options For Specific Expiry"
   ]
  },
  {
   "cell_type": "code",
   "execution_count": 24,
   "metadata": {},
   "outputs": [],
   "source": [
    "\n",
    "    \n",
    "def get_option_chain_for_expiry(symbol,expiry,min_strike=0,max_strike=np.inf):\n",
    "    option_chain = get_option_chain(symbol)\n",
    "    options=[]\n",
    "    for strike in option_chain.strikes:\n",
    "        if strike<=max_strike and strike >= min_strike:\n",
    "            for right in ['C','P']:\n",
    "                option = Option(symbol=symbol,lastTradeDateOrContractMonth=expiry,strike=strike,right=right,exchange='SMART',currency='USD')\n",
    "                options.append(option)\n",
    "    valid_options=ib.qualifyContracts(*options)\n",
    "    return valid_options \n",
    "\n"
   ]
  },
  {
   "cell_type": "code",
   "execution_count": 25,
   "metadata": {},
   "outputs": [
    {
     "name": "stderr",
     "output_type": "stream",
     "text": [
      "Error 200, reqId 19: No security definition has been found for the request, contract: Option(symbol='TREX', lastTradeDateOrContractMonth='20250325', strike=70.0, right='C', exchange='SMART', currency='USD')\n",
      "Error 200, reqId 20: No security definition has been found for the request, contract: Option(symbol='TREX', lastTradeDateOrContractMonth='20250325', strike=70.0, right='P', exchange='SMART', currency='USD')\n",
      "Error 200, reqId 21: No security definition has been found for the request, contract: Option(symbol='TREX', lastTradeDateOrContractMonth='20250325', strike=72.5, right='C', exchange='SMART', currency='USD')\n",
      "Error 200, reqId 22: No security definition has been found for the request, contract: Option(symbol='TREX', lastTradeDateOrContractMonth='20250325', strike=72.5, right='P', exchange='SMART', currency='USD')\n",
      "Error 200, reqId 23: No security definition has been found for the request, contract: Option(symbol='TREX', lastTradeDateOrContractMonth='20250325', strike=75.0, right='C', exchange='SMART', currency='USD')\n",
      "Error 200, reqId 24: No security definition has been found for the request, contract: Option(symbol='TREX', lastTradeDateOrContractMonth='20250325', strike=75.0, right='P', exchange='SMART', currency='USD')\n",
      "Error 200, reqId 26: No security definition has been found for the request, contract: Option(symbol='TREX', lastTradeDateOrContractMonth='20250325', strike=77.5, right='P', exchange='SMART', currency='USD')\n",
      "Error 200, reqId 25: No security definition has been found for the request, contract: Option(symbol='TREX', lastTradeDateOrContractMonth='20250325', strike=77.5, right='C', exchange='SMART', currency='USD')\n",
      "Error 200, reqId 27: No security definition has been found for the request, contract: Option(symbol='TREX', lastTradeDateOrContractMonth='20250325', strike=80.0, right='C', exchange='SMART', currency='USD')\n",
      "Error 200, reqId 28: No security definition has been found for the request, contract: Option(symbol='TREX', lastTradeDateOrContractMonth='20250325', strike=80.0, right='P', exchange='SMART', currency='USD')\n"
     ]
    },
    {
     "name": "stderr",
     "output_type": "stream",
     "text": [
      "Unknown contract: Option(symbol='TREX', lastTradeDateOrContractMonth='20250325', strike=70.0, right='C', exchange='SMART', currency='USD')\n",
      "Unknown contract: Option(symbol='TREX', lastTradeDateOrContractMonth='20250325', strike=70.0, right='P', exchange='SMART', currency='USD')\n",
      "Unknown contract: Option(symbol='TREX', lastTradeDateOrContractMonth='20250325', strike=72.5, right='C', exchange='SMART', currency='USD')\n",
      "Unknown contract: Option(symbol='TREX', lastTradeDateOrContractMonth='20250325', strike=72.5, right='P', exchange='SMART', currency='USD')\n",
      "Unknown contract: Option(symbol='TREX', lastTradeDateOrContractMonth='20250325', strike=75.0, right='C', exchange='SMART', currency='USD')\n",
      "Unknown contract: Option(symbol='TREX', lastTradeDateOrContractMonth='20250325', strike=75.0, right='P', exchange='SMART', currency='USD')\n",
      "Unknown contract: Option(symbol='TREX', lastTradeDateOrContractMonth='20250325', strike=77.5, right='C', exchange='SMART', currency='USD')\n",
      "Unknown contract: Option(symbol='TREX', lastTradeDateOrContractMonth='20250325', strike=77.5, right='P', exchange='SMART', currency='USD')\n",
      "Unknown contract: Option(symbol='TREX', lastTradeDateOrContractMonth='20250325', strike=80.0, right='C', exchange='SMART', currency='USD')\n",
      "Unknown contract: Option(symbol='TREX', lastTradeDateOrContractMonth='20250325', strike=80.0, right='P', exchange='SMART', currency='USD')\n"
     ]
    }
   ],
   "source": [
    "valid_options=get_option_chain_for_expiry(symbol=\"TREX\",expiry=\"20250325\",min_strike=70,max_strike=80)"
   ]
  },
  {
   "cell_type": "code",
   "execution_count": 27,
   "metadata": {},
   "outputs": [],
   "source": [
    "def get_option_chain_for_expiry(symbol,expiry,min_strike=0,max_strike=np.inf):\n",
    "    option_chain = get_option_chain(symbol)\n",
    "    options=[]\n",
    "    valid_options=[]\n",
    "    for strike in option_chain.strikes:\n",
    "        if strike<=max_strike and strike >= min_strike:\n",
    "            for right in ['C','P']:\n",
    "                option = Option(symbol=symbol,lastTradeDateOrContractMonth=expiry,strike=strike,right=right,exchange='SMART',currency='USD')\n",
    "                # valid_option=ib.qualifyContracts(option)\n",
    "                options.append(option)\n",
    "    valid_options=ib.qualifyContracts(*options)\n",
    "    return valid_options \n",
    "\n"
   ]
  },
  {
   "cell_type": "markdown",
   "metadata": {},
   "source": [
    "### set the current date and man and max strike"
   ]
  },
  {
   "cell_type": "code",
   "execution_count": 26,
   "metadata": {},
   "outputs": [],
   "source": [
    "valid_options=get_option_chain_for_expiry(symbol=\"TREX\",expiry=\"20250321\",min_strike=70,max_strike=80)"
   ]
  },
  {
   "cell_type": "code",
   "execution_count": null,
   "metadata": {},
   "outputs": [],
   "source": [
    "# valid_options=get_option_chain_for_expiry(\"TREX\",\"20250325\",min_strike=70,max_strike=80)\n",
    "# valid_options=get_option_chain_for_expiry(symbol=\"TREX\",expiry=\"20250325\",min_strike=70,max_strike=80)"
   ]
  },
  {
   "cell_type": "code",
   "execution_count": 27,
   "metadata": {},
   "outputs": [
    {
     "data": {
      "text/plain": [
       "[Option(conId=755153247, symbol='TREX', lastTradeDateOrContractMonth='20250321', strike=70.0, right='C', multiplier='100', exchange='SMART', currency='USD', localSymbol='TREX  250321C00070000', tradingClass='TREX'),\n",
       " Option(conId=755154474, symbol='TREX', lastTradeDateOrContractMonth='20250321', strike=70.0, right='P', multiplier='100', exchange='SMART', currency='USD', localSymbol='TREX  250321P00070000', tradingClass='TREX'),\n",
       " Option(conId=755153312, symbol='TREX', lastTradeDateOrContractMonth='20250321', strike=72.5, right='C', multiplier='100', exchange='SMART', currency='USD', localSymbol='TREX  250321C00072500', tradingClass='TREX'),\n",
       " Option(conId=755154525, symbol='TREX', lastTradeDateOrContractMonth='20250321', strike=72.5, right='P', multiplier='100', exchange='SMART', currency='USD', localSymbol='TREX  250321P00072500', tradingClass='TREX'),\n",
       " Option(conId=755153387, symbol='TREX', lastTradeDateOrContractMonth='20250321', strike=75.0, right='C', multiplier='100', exchange='SMART', currency='USD', localSymbol='TREX  250321C00075000', tradingClass='TREX'),\n",
       " Option(conId=755154594, symbol='TREX', lastTradeDateOrContractMonth='20250321', strike=75.0, right='P', multiplier='100', exchange='SMART', currency='USD', localSymbol='TREX  250321P00075000', tradingClass='TREX'),\n",
       " Option(conId=755153451, symbol='TREX', lastTradeDateOrContractMonth='20250321', strike=77.5, right='C', multiplier='100', exchange='SMART', currency='USD', localSymbol='TREX  250321C00077500', tradingClass='TREX'),\n",
       " Option(conId=755154650, symbol='TREX', lastTradeDateOrContractMonth='20250321', strike=77.5, right='P', multiplier='100', exchange='SMART', currency='USD', localSymbol='TREX  250321P00077500', tradingClass='TREX'),\n",
       " Option(conId=755153514, symbol='TREX', lastTradeDateOrContractMonth='20250321', strike=80.0, right='C', multiplier='100', exchange='SMART', currency='USD', localSymbol='TREX  250321C00080000', tradingClass='TREX'),\n",
       " Option(conId=755154700, symbol='TREX', lastTradeDateOrContractMonth='20250321', strike=80.0, right='P', multiplier='100', exchange='SMART', currency='USD', localSymbol='TREX  250321P00080000', tradingClass='TREX')]"
      ]
     },
     "execution_count": 27,
     "metadata": {},
     "output_type": "execute_result"
    }
   ],
   "source": [
    "valid_options"
   ]
  },
  {
   "cell_type": "markdown",
   "metadata": {},
   "source": [
    "## Get market data for these valid options for the chosen expiry date"
   ]
  },
  {
   "cell_type": "code",
   "execution_count": 29,
   "metadata": {},
   "outputs": [
    {
     "name": "stdout",
     "output_type": "stream",
     "text": [
      "[C70.0]\n"
     ]
    },
    {
     "ename": "TypeError",
     "evalue": "list indices must be integers or slices, not str",
     "output_type": "error",
     "traceback": [
      "\u001b[0;31m---------------------------------------------------------------------------\u001b[0m",
      "\u001b[0;31mTypeError\u001b[0m                                 Traceback (most recent call last)",
      "Cell \u001b[0;32mIn[29], line 7\u001b[0m\n\u001b[1;32m      2\u001b[0m \u001b[38;5;28;01mfor\u001b[39;00m option \u001b[38;5;129;01min\u001b[39;00m valid_options:\n\u001b[1;32m      3\u001b[0m   \u001b[38;5;66;03m# print(\"a \")\u001b[39;00m\n\u001b[1;32m      5\u001b[0m    \u001b[38;5;28mprint\u001b[39m(\u001b[38;5;124mf\u001b[39m\u001b[38;5;124m\"\u001b[39m\u001b[38;5;124m[\u001b[39m\u001b[38;5;132;01m{\u001b[39;00moption\u001b[38;5;241m.\u001b[39mright\u001b[38;5;132;01m}\u001b[39;00m\u001b[38;5;132;01m{\u001b[39;00moption\u001b[38;5;241m.\u001b[39mstrike\u001b[38;5;132;01m}\u001b[39;00m\u001b[38;5;124m]\u001b[39m\u001b[38;5;124m\"\u001b[39m)\n\u001b[0;32m----> 7\u001b[0m    \u001b[43mticker_dict\u001b[49m\u001b[43m[\u001b[49m\u001b[38;5;124;43m\"\u001b[39;49m\u001b[38;5;132;43;01m{option.right}\u001b[39;49;00m\u001b[38;5;132;43;01m{option.strike}\u001b[39;49;00m\u001b[38;5;124;43m\"\u001b[39;49m\u001b[43m]\u001b[49m \u001b[38;5;241m=\u001b[39m ib\u001b[38;5;241m.\u001b[39mreqMktData(contract\u001b[38;5;241m=\u001b[39moption,genericTickList\u001b[38;5;241m=\u001b[39m\u001b[38;5;124m\"\u001b[39m\u001b[38;5;124m\"\u001b[39m,snapshot\u001b[38;5;241m=\u001b[39m\u001b[38;5;28;01mFalse\u001b[39;00m,regulatorySnapshot\u001b[38;5;241m=\u001b[39m\u001b[38;5;28;01mFalse\u001b[39;00m)\n\u001b[1;32m      9\u001b[0m    \u001b[38;5;66;03m# ticker_dict[f\"{Option.right}{option.strike}\"] = ib.reqMktData(contract=option,genericTickList=\"\",snapshot=False,regulatorySnapshot=False,mktDataOptions=False,secType=\"OPT\")\u001b[39;00m\n",
      "\u001b[0;31mTypeError\u001b[0m: list indices must be integers or slices, not str"
     ]
    }
   ],
   "source": [
    "ticker_dict=[]\n",
    "for option in valid_options:\n",
    "  # print(\"a \")\n",
    "\n",
    "   print(f\"[{option.right}{option.strike}]\")\n",
    "\n",
    "   ticker_dict[\"{option.right}{option.strike}\"] = ib.reqMktData(contract=option,genericTickList=\"\",snapshot=False,regulatorySnapshot=False)\n",
    "\n",
    "   # ticker_dict[f\"{Option.right}{option.strike}\"] = ib.reqMktData(contract=option,genericTickList=\"\",snapshot=False,regulatorySnapshot=False,mktDataOptions=False,secType=\"OPT\")\n",
    "    "
   ]
  },
  {
   "cell_type": "code",
   "execution_count": null,
   "metadata": {},
   "outputs": [],
   "source": [
    "ib.sleep(3)"
   ]
  },
  {
   "cell_type": "code",
   "execution_count": null,
   "metadata": {},
   "outputs": [],
   "source": [
    "ticker_dict"
   ]
  },
  {
   "cell_type": "markdown",
   "metadata": {},
   "source": [
    "### [HIER WEITER](https://www.youtube.com/watch?v=juhi5NpBBro)"
   ]
  },
  {
   "cell_type": "markdown",
   "metadata": {},
   "source": [
    "## first contract"
   ]
  },
  {
   "cell_type": "code",
   "execution_count": null,
   "metadata": {},
   "outputs": [],
   "source": [
    "contracts[0]"
   ]
  },
  {
   "cell_type": "markdown",
   "metadata": {},
   "source": [
    "# Now to get the market data for all options in one go:"
   ]
  },
  {
   "cell_type": "code",
   "execution_count": 22,
   "metadata": {},
   "outputs": [],
   "source": [
    "tickers = ib.reqTickers(*contracts)\n"
   ]
  },
  {
   "cell_type": "markdown",
   "metadata": {},
   "source": []
  },
  {
   "cell_type": "code",
   "execution_count": null,
   "metadata": {},
   "outputs": [],
   "source": [
    "tickers[0]"
   ]
  },
  {
   "cell_type": "markdown",
   "metadata": {},
   "source": []
  },
  {
   "cell_type": "code",
   "execution_count": null,
   "metadata": {},
   "outputs": [],
   "source": [
    "ticker = tickers[0]\n",
    "ticker.midpoint\n",
    "\n",
    "\n"
   ]
  },
  {
   "cell_type": "code",
   "execution_count": null,
   "metadata": {},
   "outputs": [],
   "source": [
    "ticker.ask"
   ]
  },
  {
   "cell_type": "code",
   "execution_count": null,
   "metadata": {},
   "outputs": [],
   "source": [
    "ticker.bid"
   ]
  },
  {
   "cell_type": "code",
   "execution_count": null,
   "metadata": {},
   "outputs": [],
   "source": [
    "ticker.marketPrice"
   ]
  },
  {
   "cell_type": "markdown",
   "metadata": {},
   "source": [
    "get strike price"
   ]
  },
  {
   "cell_type": "code",
   "execution_count": null,
   "metadata": {},
   "outputs": [],
   "source": [
    "#print(f\"{ticker.contract.strike}\")\n",
    "ticker.contract.strike\n",
    "#ticker.impliedVolatility\n",
    "# deltaNeutralContract.delta"
   ]
  },
  {
   "cell_type": "code",
   "execution_count": null,
   "metadata": {},
   "outputs": [],
   "source": [
    "type(ticker)"
   ]
  },
  {
   "cell_type": "code",
   "execution_count": 70,
   "metadata": {},
   "outputs": [],
   "source": [
    "ib.disconnect()"
   ]
  }
 ],
 "metadata": {
  "kernelspec": {
   "display_name": ".venv",
   "language": "python",
   "name": "python3"
  },
  "language_info": {
   "codemirror_mode": {
    "name": "ipython",
    "version": 3
   },
   "file_extension": ".py",
   "mimetype": "text/x-python",
   "name": "python",
   "nbconvert_exporter": "python",
   "pygments_lexer": "ipython3",
   "version": "3.11.2"
  }
 },
 "nbformat": 4,
 "nbformat_minor": 2
}
