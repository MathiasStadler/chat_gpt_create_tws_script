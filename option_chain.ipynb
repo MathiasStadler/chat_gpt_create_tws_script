{
 "cells": [
  {
   "cell_type": "markdown",
   "metadata": {},
   "source": [
    "[FROM HERE](https://github.com/erdewit/ib_insync/blob/master/notebooks/option_chain.ipynb)"
   ]
  },
  {
   "cell_type": "code",
   "execution_count": 14,
   "metadata": {},
   "outputs": [],
   "source": [
    "from ib_insync import *\n",
    "util.startLoop()\n",
    "\n",
    "ib = IB()\n",
    "# Paper\n",
    "ib.connect('127.0.0.1', 7496, clientId=12)\n",
    "\n",
    "# delay data\n",
    "ib.reqMarketDataType(4)"
   ]
  },
  {
   "cell_type": "markdown",
   "metadata": {},
   "source": [
    "Suppose we want to find the options on the SPX, with the following conditions:\n",
    "\n",
    "Use the next three monthly expiries;\n",
    "Use strike prices within +- 20 dollar of the current SPX value;\n",
    "Use strike prices that are a multitude of 5 dollar."
   ]
  },
  {
   "cell_type": "markdown",
   "metadata": {},
   "source": [
    "To avoid issues with market data permissions, we'll use delayed data:"
   ]
  },
  {
   "cell_type": "code",
   "execution_count": 15,
   "metadata": {},
   "outputs": [],
   "source": [
    "ib.reqMarketDataType(4)"
   ]
  },
  {
   "cell_type": "code",
   "execution_count": 16,
   "metadata": {},
   "outputs": [
    {
     "data": {
      "text/plain": [
       "Stock(symbol='TREX', exchange='SMART', currency='USD')"
      ]
     },
     "execution_count": 16,
     "metadata": {},
     "output_type": "execute_result"
    }
   ],
   "source": [
    "stock_contract = Stock('TREX', 'SMART', 'USD')\n",
    "stock_contract"
   ]
  },
  {
   "cell_type": "code",
   "execution_count": 17,
   "metadata": {},
   "outputs": [
    {
     "data": {
      "text/plain": [
       "Stock(conId=6608603, symbol='TREX', exchange='SMART', primaryExchange='NYSE', currency='USD', localSymbol='TREX', tradingClass='TREX')"
      ]
     },
     "execution_count": 17,
     "metadata": {},
     "output_type": "execute_result"
    }
   ],
   "source": [
    "# Qualify the contract\n",
    "qualified_contracts = ib.qualifyContracts(stock_contract)\n",
    "stock_contract"
   ]
  },
  {
   "cell_type": "markdown",
   "metadata": {},
   "source": [
    "qualified contracts - req market data - https://algotrading101.com/learn/ib_insync-interactive-brokers-api-guide/"
   ]
  },
  {
   "cell_type": "code",
   "execution_count": 27,
   "metadata": {},
   "outputs": [],
   "source": [
    "if not qualified_contracts:\n",
    "    print(\"No qualified contracts found.\")\n",
    "else:\n",
    "    stock_contract = qualified_contracts[0]\n",
    "\n",
    "    # Request market data\n",
    "    data = ib.reqMktData(stock_contract, '', False, False)\n",
    "    "
   ]
  },
  {
   "cell_type": "code",
   "execution_count": 28,
   "metadata": {},
   "outputs": [
    {
     "data": {
      "text/plain": [
       "72.84"
      ]
     },
     "execution_count": 28,
     "metadata": {},
     "output_type": "execute_result"
    }
   ],
   "source": [
    "data.marketPrice()"
   ]
  },
  {
   "cell_type": "markdown",
   "metadata": {},
   "source": [
    "chain"
   ]
  },
  {
   "cell_type": "code",
   "execution_count": 30,
   "metadata": {},
   "outputs": [],
   "source": [
    "chains = ib.reqSecDefOptParams(stock_contract.symbol, '', stock_contract.secType, stock_contract.conId)"
   ]
  },
  {
   "cell_type": "markdown",
   "metadata": {},
   "source": [
    "display chains"
   ]
  },
  {
   "cell_type": "code",
   "execution_count": 31,
   "metadata": {},
   "outputs": [
    {
     "data": {
      "text/html": [
       "<div>\n",
       "<style scoped>\n",
       "    .dataframe tbody tr th:only-of-type {\n",
       "        vertical-align: middle;\n",
       "    }\n",
       "\n",
       "    .dataframe tbody tr th {\n",
       "        vertical-align: top;\n",
       "    }\n",
       "\n",
       "    .dataframe thead th {\n",
       "        text-align: right;\n",
       "    }\n",
       "</style>\n",
       "<table border=\"1\" class=\"dataframe\">\n",
       "  <thead>\n",
       "    <tr style=\"text-align: right;\">\n",
       "      <th></th>\n",
       "      <th>exchange</th>\n",
       "      <th>underlyingConId</th>\n",
       "      <th>tradingClass</th>\n",
       "      <th>multiplier</th>\n",
       "      <th>expirations</th>\n",
       "      <th>strikes</th>\n",
       "    </tr>\n",
       "  </thead>\n",
       "  <tbody>\n",
       "    <tr>\n",
       "      <th>0</th>\n",
       "      <td>EDGX</td>\n",
       "      <td>6608603</td>\n",
       "      <td>TREX</td>\n",
       "      <td>100</td>\n",
       "      <td>[20250221, 20250321, 20250417, 20250718]</td>\n",
       "      <td>[30.0, 35.0, 40.0, 45.0, 47.5, 50.0, 55.0, 57....</td>\n",
       "    </tr>\n",
       "    <tr>\n",
       "      <th>1</th>\n",
       "      <td>MIAX</td>\n",
       "      <td>6608603</td>\n",
       "      <td>TREX</td>\n",
       "      <td>100</td>\n",
       "      <td>[20250221, 20250321, 20250417, 20250718]</td>\n",
       "      <td>[30.0, 35.0, 40.0, 45.0, 47.5, 50.0, 55.0, 57....</td>\n",
       "    </tr>\n",
       "    <tr>\n",
       "      <th>2</th>\n",
       "      <td>SMART</td>\n",
       "      <td>6608603</td>\n",
       "      <td>TREX</td>\n",
       "      <td>100</td>\n",
       "      <td>[20250221, 20250321, 20250417, 20250718]</td>\n",
       "      <td>[30.0, 35.0, 40.0, 45.0, 47.5, 50.0, 55.0, 57....</td>\n",
       "    </tr>\n",
       "    <tr>\n",
       "      <th>3</th>\n",
       "      <td>BOX</td>\n",
       "      <td>6608603</td>\n",
       "      <td>TREX</td>\n",
       "      <td>100</td>\n",
       "      <td>[20250221, 20250321, 20250417, 20250718]</td>\n",
       "      <td>[30.0, 35.0, 40.0, 45.0, 47.5, 50.0, 55.0, 57....</td>\n",
       "    </tr>\n",
       "    <tr>\n",
       "      <th>4</th>\n",
       "      <td>CBOE2</td>\n",
       "      <td>6608603</td>\n",
       "      <td>TREX</td>\n",
       "      <td>100</td>\n",
       "      <td>[20250221, 20250321, 20250417, 20250718]</td>\n",
       "      <td>[30.0, 35.0, 40.0, 45.0, 47.5, 50.0, 55.0, 57....</td>\n",
       "    </tr>\n",
       "    <tr>\n",
       "      <th>5</th>\n",
       "      <td>SAPPHIRE</td>\n",
       "      <td>6608603</td>\n",
       "      <td>TREX</td>\n",
       "      <td>100</td>\n",
       "      <td>[20250221, 20250321, 20250417, 20250718]</td>\n",
       "      <td>[30.0, 35.0, 40.0, 45.0, 47.5, 50.0, 55.0, 57....</td>\n",
       "    </tr>\n",
       "    <tr>\n",
       "      <th>6</th>\n",
       "      <td>BATS</td>\n",
       "      <td>6608603</td>\n",
       "      <td>TREX</td>\n",
       "      <td>100</td>\n",
       "      <td>[20250221, 20250321, 20250417, 20250718]</td>\n",
       "      <td>[30.0, 35.0, 40.0, 45.0, 47.5, 50.0, 55.0, 57....</td>\n",
       "    </tr>\n",
       "    <tr>\n",
       "      <th>7</th>\n",
       "      <td>IBUSOPT</td>\n",
       "      <td>6608603</td>\n",
       "      <td>TREX</td>\n",
       "      <td>100</td>\n",
       "      <td>[20250221, 20250321, 20250417, 20250718]</td>\n",
       "      <td>[30.0, 35.0, 40.0, 45.0, 47.5, 50.0, 55.0, 57....</td>\n",
       "    </tr>\n",
       "    <tr>\n",
       "      <th>8</th>\n",
       "      <td>MEMX</td>\n",
       "      <td>6608603</td>\n",
       "      <td>TREX</td>\n",
       "      <td>100</td>\n",
       "      <td>[20250221, 20250321, 20250417, 20250718]</td>\n",
       "      <td>[30.0, 35.0, 40.0, 45.0, 47.5, 50.0, 55.0, 57....</td>\n",
       "    </tr>\n",
       "    <tr>\n",
       "      <th>9</th>\n",
       "      <td>PSE</td>\n",
       "      <td>6608603</td>\n",
       "      <td>TREX</td>\n",
       "      <td>100</td>\n",
       "      <td>[20250221, 20250321, 20250417, 20250718]</td>\n",
       "      <td>[30.0, 35.0, 40.0, 45.0, 47.5, 50.0, 55.0, 57....</td>\n",
       "    </tr>\n",
       "    <tr>\n",
       "      <th>10</th>\n",
       "      <td>EMERALD</td>\n",
       "      <td>6608603</td>\n",
       "      <td>TREX</td>\n",
       "      <td>100</td>\n",
       "      <td>[20250221, 20250321, 20250417, 20250718]</td>\n",
       "      <td>[30.0, 35.0, 40.0, 45.0, 47.5, 50.0, 55.0, 57....</td>\n",
       "    </tr>\n",
       "    <tr>\n",
       "      <th>11</th>\n",
       "      <td>NASDAQOM</td>\n",
       "      <td>6608603</td>\n",
       "      <td>TREX</td>\n",
       "      <td>100</td>\n",
       "      <td>[20250221, 20250321, 20250417, 20250718]</td>\n",
       "      <td>[30.0, 35.0, 40.0, 45.0, 47.5, 50.0, 55.0, 57....</td>\n",
       "    </tr>\n",
       "    <tr>\n",
       "      <th>12</th>\n",
       "      <td>PHLX</td>\n",
       "      <td>6608603</td>\n",
       "      <td>TREX</td>\n",
       "      <td>100</td>\n",
       "      <td>[20250221, 20250321, 20250417, 20250718]</td>\n",
       "      <td>[30.0, 35.0, 40.0, 45.0, 47.5, 50.0, 55.0, 57....</td>\n",
       "    </tr>\n",
       "    <tr>\n",
       "      <th>13</th>\n",
       "      <td>ISE</td>\n",
       "      <td>6608603</td>\n",
       "      <td>TREX</td>\n",
       "      <td>100</td>\n",
       "      <td>[20250221, 20250321, 20250417, 20250718]</td>\n",
       "      <td>[30.0, 35.0, 40.0, 45.0, 47.5, 50.0, 55.0, 57....</td>\n",
       "    </tr>\n",
       "    <tr>\n",
       "      <th>14</th>\n",
       "      <td>AMEX</td>\n",
       "      <td>6608603</td>\n",
       "      <td>TREX</td>\n",
       "      <td>100</td>\n",
       "      <td>[20250221, 20250321, 20250417, 20250718]</td>\n",
       "      <td>[30.0, 35.0, 40.0, 45.0, 47.5, 50.0, 55.0, 57....</td>\n",
       "    </tr>\n",
       "    <tr>\n",
       "      <th>15</th>\n",
       "      <td>GEMINI</td>\n",
       "      <td>6608603</td>\n",
       "      <td>TREX</td>\n",
       "      <td>100</td>\n",
       "      <td>[20250221, 20250321, 20250417, 20250718]</td>\n",
       "      <td>[30.0, 35.0, 40.0, 45.0, 47.5, 50.0, 55.0, 57....</td>\n",
       "    </tr>\n",
       "    <tr>\n",
       "      <th>16</th>\n",
       "      <td>PEARL</td>\n",
       "      <td>6608603</td>\n",
       "      <td>TREX</td>\n",
       "      <td>100</td>\n",
       "      <td>[20250221, 20250321, 20250417, 20250718]</td>\n",
       "      <td>[30.0, 35.0, 40.0, 45.0, 47.5, 50.0, 55.0, 57....</td>\n",
       "    </tr>\n",
       "    <tr>\n",
       "      <th>17</th>\n",
       "      <td>NASDAQBX</td>\n",
       "      <td>6608603</td>\n",
       "      <td>TREX</td>\n",
       "      <td>100</td>\n",
       "      <td>[20250221, 20250321, 20250417, 20250718]</td>\n",
       "      <td>[30.0, 35.0, 40.0, 45.0, 47.5, 50.0, 55.0, 57....</td>\n",
       "    </tr>\n",
       "    <tr>\n",
       "      <th>18</th>\n",
       "      <td>CBOE</td>\n",
       "      <td>6608603</td>\n",
       "      <td>TREX</td>\n",
       "      <td>100</td>\n",
       "      <td>[20250221, 20250321, 20250417, 20250718]</td>\n",
       "      <td>[30.0, 35.0, 40.0, 45.0, 47.5, 50.0, 55.0, 57....</td>\n",
       "    </tr>\n",
       "    <tr>\n",
       "      <th>19</th>\n",
       "      <td>MERCURY</td>\n",
       "      <td>6608603</td>\n",
       "      <td>TREX</td>\n",
       "      <td>100</td>\n",
       "      <td>[20250221, 20250321, 20250417, 20250718]</td>\n",
       "      <td>[30.0, 35.0, 40.0, 45.0, 47.5, 50.0, 55.0, 57....</td>\n",
       "    </tr>\n",
       "  </tbody>\n",
       "</table>\n",
       "</div>"
      ],
      "text/plain": [
       "    exchange underlyingConId tradingClass multiplier  \\\n",
       "0       EDGX         6608603         TREX        100   \n",
       "1       MIAX         6608603         TREX        100   \n",
       "2      SMART         6608603         TREX        100   \n",
       "3        BOX         6608603         TREX        100   \n",
       "4      CBOE2         6608603         TREX        100   \n",
       "5   SAPPHIRE         6608603         TREX        100   \n",
       "6       BATS         6608603         TREX        100   \n",
       "7    IBUSOPT         6608603         TREX        100   \n",
       "8       MEMX         6608603         TREX        100   \n",
       "9        PSE         6608603         TREX        100   \n",
       "10   EMERALD         6608603         TREX        100   \n",
       "11  NASDAQOM         6608603         TREX        100   \n",
       "12      PHLX         6608603         TREX        100   \n",
       "13       ISE         6608603         TREX        100   \n",
       "14      AMEX         6608603         TREX        100   \n",
       "15    GEMINI         6608603         TREX        100   \n",
       "16     PEARL         6608603         TREX        100   \n",
       "17  NASDAQBX         6608603         TREX        100   \n",
       "18      CBOE         6608603         TREX        100   \n",
       "19   MERCURY         6608603         TREX        100   \n",
       "\n",
       "                                 expirations  \\\n",
       "0   [20250221, 20250321, 20250417, 20250718]   \n",
       "1   [20250221, 20250321, 20250417, 20250718]   \n",
       "2   [20250221, 20250321, 20250417, 20250718]   \n",
       "3   [20250221, 20250321, 20250417, 20250718]   \n",
       "4   [20250221, 20250321, 20250417, 20250718]   \n",
       "5   [20250221, 20250321, 20250417, 20250718]   \n",
       "6   [20250221, 20250321, 20250417, 20250718]   \n",
       "7   [20250221, 20250321, 20250417, 20250718]   \n",
       "8   [20250221, 20250321, 20250417, 20250718]   \n",
       "9   [20250221, 20250321, 20250417, 20250718]   \n",
       "10  [20250221, 20250321, 20250417, 20250718]   \n",
       "11  [20250221, 20250321, 20250417, 20250718]   \n",
       "12  [20250221, 20250321, 20250417, 20250718]   \n",
       "13  [20250221, 20250321, 20250417, 20250718]   \n",
       "14  [20250221, 20250321, 20250417, 20250718]   \n",
       "15  [20250221, 20250321, 20250417, 20250718]   \n",
       "16  [20250221, 20250321, 20250417, 20250718]   \n",
       "17  [20250221, 20250321, 20250417, 20250718]   \n",
       "18  [20250221, 20250321, 20250417, 20250718]   \n",
       "19  [20250221, 20250321, 20250417, 20250718]   \n",
       "\n",
       "                                              strikes  \n",
       "0   [30.0, 35.0, 40.0, 45.0, 47.5, 50.0, 55.0, 57....  \n",
       "1   [30.0, 35.0, 40.0, 45.0, 47.5, 50.0, 55.0, 57....  \n",
       "2   [30.0, 35.0, 40.0, 45.0, 47.5, 50.0, 55.0, 57....  \n",
       "3   [30.0, 35.0, 40.0, 45.0, 47.5, 50.0, 55.0, 57....  \n",
       "4   [30.0, 35.0, 40.0, 45.0, 47.5, 50.0, 55.0, 57....  \n",
       "5   [30.0, 35.0, 40.0, 45.0, 47.5, 50.0, 55.0, 57....  \n",
       "6   [30.0, 35.0, 40.0, 45.0, 47.5, 50.0, 55.0, 57....  \n",
       "7   [30.0, 35.0, 40.0, 45.0, 47.5, 50.0, 55.0, 57....  \n",
       "8   [30.0, 35.0, 40.0, 45.0, 47.5, 50.0, 55.0, 57....  \n",
       "9   [30.0, 35.0, 40.0, 45.0, 47.5, 50.0, 55.0, 57....  \n",
       "10  [30.0, 35.0, 40.0, 45.0, 47.5, 50.0, 55.0, 57....  \n",
       "11  [30.0, 35.0, 40.0, 45.0, 47.5, 50.0, 55.0, 57....  \n",
       "12  [30.0, 35.0, 40.0, 45.0, 47.5, 50.0, 55.0, 57....  \n",
       "13  [30.0, 35.0, 40.0, 45.0, 47.5, 50.0, 55.0, 57....  \n",
       "14  [30.0, 35.0, 40.0, 45.0, 47.5, 50.0, 55.0, 57....  \n",
       "15  [30.0, 35.0, 40.0, 45.0, 47.5, 50.0, 55.0, 57....  \n",
       "16  [30.0, 35.0, 40.0, 45.0, 47.5, 50.0, 55.0, 57....  \n",
       "17  [30.0, 35.0, 40.0, 45.0, 47.5, 50.0, 55.0, 57....  \n",
       "18  [30.0, 35.0, 40.0, 45.0, 47.5, 50.0, 55.0, 57....  \n",
       "19  [30.0, 35.0, 40.0, 45.0, 47.5, 50.0, 55.0, 57....  "
      ]
     },
     "execution_count": 31,
     "metadata": {},
     "output_type": "execute_result"
    }
   ],
   "source": [
    "util.df(chains)"
   ]
  },
  {
   "cell_type": "code",
   "execution_count": 12,
   "metadata": {},
   "outputs": [],
   "source": [
    "ib.disconnect()"
   ]
  }
 ],
 "metadata": {
  "kernelspec": {
   "display_name": ".venv",
   "language": "python",
   "name": "python3"
  },
  "language_info": {
   "codemirror_mode": {
    "name": "ipython",
    "version": 3
   },
   "file_extension": ".py",
   "mimetype": "text/x-python",
   "name": "python",
   "nbconvert_exporter": "python",
   "pygments_lexer": "ipython3",
   "version": "3.11.2"
  }
 },
 "nbformat": 4,
 "nbformat_minor": 2
}
